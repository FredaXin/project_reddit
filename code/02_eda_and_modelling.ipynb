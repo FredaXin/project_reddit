{
 "cells": [
  {
   "cell_type": "markdown",
   "metadata": {},
   "source": [
    "# Project 3: Predicting Posts From r/StarWars vs. r/startrek\n",
    "by [Freda Xin](https://github.com/FredaXin)"
   ]
  },
  {
   "cell_type": "markdown",
   "metadata": {},
   "source": [
    "## Problem Statement"
   ]
  },
  {
   "cell_type": "markdown",
   "metadata": {},
   "source": [
    "Star Wars and Star Trek fan communities normally do not mingle. However, as the moderator of a small subreddit called r/scifi_universes, I encourage fans from both communities to have friendly and robust discussions on my forum. Since my subreddit is small, I encourage my subscribers to crosspost on other subreddits (such as r/startrek and r/StarWars) to attract more attentions to their posts and my subreddit. Therefore, I plan to create a bot which will suggest a subreddit (i.e. r/startrek or r/StarWars) to crosspost to based on the title and contents of the posts.\n",
    "\n",
    "\n",
    "I will use the following classification models: Naive Bayes (Multinomial Naive Bayes and Gaussian Naive Bayes), Logitic Regression, KNN, and SVM. I will use AUC ROC as the metric to evaluate the models and select the best version.  "
   ]
  },
  {
   "cell_type": "markdown",
   "metadata": {},
   "source": [
    "## Executive Summary"
   ]
  },
  {
   "cell_type": "markdown",
   "metadata": {},
   "source": [
    "During the data collection process, I noticed that in order to collect the same amount of posts (i.e. 5000 for each subreddit), r/StarWars went over a much longer time span (780 days), comparing to r/startrek which only went over 420 days. Since our function only collects 'is_self' (i.e. text posts), This information indicated that r/startrek posts tend to have more text posts than r/StarWars. However, this information was not included in the features for our models, and we should keep in mind of the limitation of our models. \n",
    "\n",
    "During the EDA and data cleaning process, I used techniques such as tokenizing, lemmatizing, and creating custom stop words to preprocess our text data. I also engineered a feature to combine the title and the body of the post in order to maximize the amount of text information to train our models. These steps have improved our models' performance. \n",
    "\n",
    "During the modeling process, I used pipelines combined with grid-search for each model. I was especially interested in exploring the different results between using CountVectorizer vs. TFIDF: the former counts the occurrence of the words, where as the latter penalizes a word if it occurs often across the corpus and documents. I also tuned the models using a variety of hyper-parameters. I started with the Naive Bayes models, since I assumed that the models are simple and fast. I then explored more complex models such as logistic regression, KNN, and SVM. Does more complex and sophisticated models yield the best result? let's find out!"
   ]
  },
  {
   "cell_type": "markdown",
   "metadata": {
    "toc": true
   },
   "source": [
    "<h1>Table of Contents<span class=\"tocSkip\"></span></h1>\n",
    "<div class=\"toc\"><ul class=\"toc-item\"><li><span><a href=\"#Project-3:-Predicting-Posts-From-r/StarWars-vs.-r/startrek\" data-toc-modified-id=\"Project-3:-Predicting-Posts-From-r/StarWars-vs.-r/startrek-1\"><span class=\"toc-item-num\">1&nbsp;&nbsp;</span>Project 3: Predicting Posts From r/StarWars vs. r/startrek</a></span><ul class=\"toc-item\"><li><span><a href=\"#Problem-Statement\" data-toc-modified-id=\"Problem-Statement-1.1\"><span class=\"toc-item-num\">1.1&nbsp;&nbsp;</span>Problem Statement</a></span></li><li><span><a href=\"#Executive-Summary\" data-toc-modified-id=\"Executive-Summary-1.2\"><span class=\"toc-item-num\">1.2&nbsp;&nbsp;</span>Executive Summary</a></span></li><li><span><a href=\"#Import-libraries-and-read-in-the-data\" data-toc-modified-id=\"Import-libraries-and-read-in-the-data-1.3\"><span class=\"toc-item-num\">1.3&nbsp;&nbsp;</span>Import libraries and read in the data</a></span></li><li><span><a href=\"#Preliminary-EDA\" data-toc-modified-id=\"Preliminary-EDA-1.4\"><span class=\"toc-item-num\">1.4&nbsp;&nbsp;</span>Preliminary EDA</a></span></li><li><span><a href=\"#EDA-and-Data-Cleaning\" data-toc-modified-id=\"EDA-and-Data-Cleaning-1.5\"><span class=\"toc-item-num\">1.5&nbsp;&nbsp;</span>EDA and Data Cleaning</a></span><ul class=\"toc-item\"><li><span><a href=\"#Check-data-types\" data-toc-modified-id=\"Check-data-types-1.5.1\"><span class=\"toc-item-num\">1.5.1&nbsp;&nbsp;</span>Check data types</a></span></li><li><span><a href=\"#Missing-values\" data-toc-modified-id=\"Missing-values-1.5.2\"><span class=\"toc-item-num\">1.5.2&nbsp;&nbsp;</span>Missing values</a></span></li></ul></li><li><span><a href=\"#Feature-engineering\" data-toc-modified-id=\"Feature-engineering-1.6\"><span class=\"toc-item-num\">1.6&nbsp;&nbsp;</span>Feature engineering</a></span></li><li><span><a href=\"#EDA-Continued:-Compare-r/startrek-with-r/StarWars\" data-toc-modified-id=\"EDA-Continued:-Compare-r/startrek-with-r/StarWars-1.7\"><span class=\"toc-item-num\">1.7&nbsp;&nbsp;</span>EDA Continued: Compare r/startrek with r/StarWars</a></span><ul class=\"toc-item\"><li><span><a href=\"#First-impression\" data-toc-modified-id=\"First-impression-1.7.1\"><span class=\"toc-item-num\">1.7.1&nbsp;&nbsp;</span>First impression</a></span></li><li><span><a href=\"#'num_comments'\" data-toc-modified-id=\"'num_comments'-1.7.2\"><span class=\"toc-item-num\">1.7.2&nbsp;&nbsp;</span>'num_comments'</a></span></li><li><span><a href=\"#'selftext_length'\" data-toc-modified-id=\"'selftext_length'-1.7.3\"><span class=\"toc-item-num\">1.7.3&nbsp;&nbsp;</span>'selftext_length'</a></span></li><li><span><a href=\"#Other-Categorical-features\" data-toc-modified-id=\"Other-Categorical-features-1.7.4\"><span class=\"toc-item-num\">1.7.4&nbsp;&nbsp;</span>Other Categorical features</a></span></li></ul></li><li><span><a href=\"#Pre-Processing\" data-toc-modified-id=\"Pre-Processing-1.8\"><span class=\"toc-item-num\">1.8&nbsp;&nbsp;</span>Pre-Processing</a></span><ul class=\"toc-item\"><li><span><a href=\"#Tokenizing,--Lemmatizing,-and-Custom-Stopwords\" data-toc-modified-id=\"Tokenizing,--Lemmatizing,-and-Custom-Stopwords-1.8.1\"><span class=\"toc-item-num\">1.8.1&nbsp;&nbsp;</span>Tokenizing,  Lemmatizing, and Custom Stopwords</a></span></li><li><span><a href=\"#CountVectorizer\" data-toc-modified-id=\"CountVectorizer-1.8.2\"><span class=\"toc-item-num\">1.8.2&nbsp;&nbsp;</span>CountVectorizer</a></span></li><li><span><a href=\"#Find-the-most-common-words-in-r/startrek-vs.-r/StarWars\" data-toc-modified-id=\"Find-the-most-common-words-in-r/startrek-vs.-r/StarWars-1.8.3\"><span class=\"toc-item-num\">1.8.3&nbsp;&nbsp;</span>Find the most common words in r/startrek vs. r/StarWars</a></span><ul class=\"toc-item\"><li><span><a href=\"#r/startrek\" data-toc-modified-id=\"r/startrek-1.8.3.1\"><span class=\"toc-item-num\">1.8.3.1&nbsp;&nbsp;</span>r/startrek</a></span></li><li><span><a href=\"#r/StarWars\" data-toc-modified-id=\"r/StarWars-1.8.3.2\"><span class=\"toc-item-num\">1.8.3.2&nbsp;&nbsp;</span>r/StarWars</a></span></li><li><span><a href=\"#Ploting-r/startrek-and-r/StarWars\" data-toc-modified-id=\"Ploting-r/startrek-and-r/StarWars-1.8.3.3\"><span class=\"toc-item-num\">1.8.3.3&nbsp;&nbsp;</span>Ploting r/startrek and r/StarWars</a></span></li></ul></li><li><span><a href=\"#Create-custom-stopwords\" data-toc-modified-id=\"Create-custom-stopwords-1.8.4\"><span class=\"toc-item-num\">1.8.4&nbsp;&nbsp;</span>Create custom stopwords</a></span></li></ul></li><li><span><a href=\"#Model-Preparation\" data-toc-modified-id=\"Model-Preparation-1.9\"><span class=\"toc-item-num\">1.9&nbsp;&nbsp;</span>Model Preparation</a></span></li><li><span><a href=\"#Train,-Test-Split\" data-toc-modified-id=\"Train,-Test-Split-1.10\"><span class=\"toc-item-num\">1.10&nbsp;&nbsp;</span>Train, Test Split</a></span><ul class=\"toc-item\"><li><span><a href=\"#Check-distributions-of-Y-to-make-sure-we-have-balanced-classes\" data-toc-modified-id=\"Check-distributions-of-Y-to-make-sure-we-have-balanced-classes-1.10.1\"><span class=\"toc-item-num\">1.10.1&nbsp;&nbsp;</span>Check distributions of Y to make sure we have balanced classes</a></span></li></ul></li><li><span><a href=\"#Modeling\" data-toc-modified-id=\"Modeling-1.11\"><span class=\"toc-item-num\">1.11&nbsp;&nbsp;</span>Modeling</a></span><ul class=\"toc-item\"><li><span><a href=\"#Evaluation-Metric\" data-toc-modified-id=\"Evaluation-Metric-1.11.1\"><span class=\"toc-item-num\">1.11.1&nbsp;&nbsp;</span>Evaluation Metric</a></span></li><li><span><a href=\"#Baseline-Model\" data-toc-modified-id=\"Baseline-Model-1.11.2\"><span class=\"toc-item-num\">1.11.2&nbsp;&nbsp;</span>Baseline Model</a></span></li><li><span><a href=\"#Naive-Bayes-Models\" data-toc-modified-id=\"Naive-Bayes-Models-1.11.3\"><span class=\"toc-item-num\">1.11.3&nbsp;&nbsp;</span>Naive Bayes Models</a></span><ul class=\"toc-item\"><li><span><a href=\"#CountVectorizer-+-Multinomial-Naive-Bayes\" data-toc-modified-id=\"CountVectorizer-+-Multinomial-Naive-Bayes-1.11.3.1\"><span class=\"toc-item-num\">1.11.3.1&nbsp;&nbsp;</span>CountVectorizer + Multinomial Naive Bayes</a></span></li><li><span><a href=\"#TfidfVectorizer-+-Gaussian-Naive-Bayes\" data-toc-modified-id=\"TfidfVectorizer-+-Gaussian-Naive-Bayes-1.11.3.2\"><span class=\"toc-item-num\">1.11.3.2&nbsp;&nbsp;</span>TfidfVectorizer + Gaussian Naive Bayes</a></span></li></ul></li><li><span><a href=\"#Logistic-Regression-Models\" data-toc-modified-id=\"Logistic-Regression-Models-1.11.4\"><span class=\"toc-item-num\">1.11.4&nbsp;&nbsp;</span>Logistic Regression Models</a></span><ul class=\"toc-item\"><li><span><a href=\"#CountVectorizer-+-LogisticRegression\" data-toc-modified-id=\"CountVectorizer-+-LogisticRegression-1.11.4.1\"><span class=\"toc-item-num\">1.11.4.1&nbsp;&nbsp;</span>CountVectorizer + LogisticRegression</a></span></li><li><span><a href=\"#TfidfVectorizer+-LogisticRegression\" data-toc-modified-id=\"TfidfVectorizer+-LogisticRegression-1.11.4.2\"><span class=\"toc-item-num\">1.11.4.2&nbsp;&nbsp;</span>TfidfVectorizer+ LogisticRegression</a></span></li></ul></li><li><span><a href=\"#KNN-model\" data-toc-modified-id=\"KNN-model-1.11.5\"><span class=\"toc-item-num\">1.11.5&nbsp;&nbsp;</span>KNN model</a></span><ul class=\"toc-item\"><li><span><a href=\"#CountVectorizer-+-KNN\" data-toc-modified-id=\"CountVectorizer-+-KNN-1.11.5.1\"><span class=\"toc-item-num\">1.11.5.1&nbsp;&nbsp;</span>CountVectorizer + KNN</a></span></li></ul></li><li><span><a href=\"#SVM\" data-toc-modified-id=\"SVM-1.11.6\"><span class=\"toc-item-num\">1.11.6&nbsp;&nbsp;</span>SVM</a></span></li></ul></li><li><span><a href=\"#Model-Selection\" data-toc-modified-id=\"Model-Selection-1.12\"><span class=\"toc-item-num\">1.12&nbsp;&nbsp;</span>Model Selection</a></span><ul class=\"toc-item\"><li><span><a href=\"#Define-functions-that-will-generate-and-display-AUC-ROC-scores-for-all-the-models\" data-toc-modified-id=\"Define-functions-that-will-generate-and-display-AUC-ROC-scores-for-all-the-models-1.12.1\"><span class=\"toc-item-num\">1.12.1&nbsp;&nbsp;</span>Define functions that will generate and display AUC ROC scores for all the models</a></span></li></ul></li><li><span><a href=\"#Model-Evaluation\" data-toc-modified-id=\"Model-Evaluation-1.13\"><span class=\"toc-item-num\">1.13&nbsp;&nbsp;</span>Model Evaluation</a></span><ul class=\"toc-item\"><li><span><a href=\"#Multinomial-Naive-Bayes\" data-toc-modified-id=\"Multinomial-Naive-Bayes-1.13.1\"><span class=\"toc-item-num\">1.13.1&nbsp;&nbsp;</span>Multinomial Naive Bayes</a></span><ul class=\"toc-item\"><li><span><a href=\"#Confusion-Matrix\" data-toc-modified-id=\"Confusion-Matrix-1.13.1.1\"><span class=\"toc-item-num\">1.13.1.1&nbsp;&nbsp;</span>Confusion Matrix</a></span></li><li><span><a href=\"#ROC-Curve-and-AUC-ROC\" data-toc-modified-id=\"ROC-Curve-and-AUC-ROC-1.13.1.2\"><span class=\"toc-item-num\">1.13.1.2&nbsp;&nbsp;</span>ROC Curve and AUC ROC</a></span></li></ul></li><li><span><a href=\"#Logistic-Regression\" data-toc-modified-id=\"Logistic-Regression-1.13.2\"><span class=\"toc-item-num\">1.13.2&nbsp;&nbsp;</span>Logistic Regression</a></span><ul class=\"toc-item\"><li><span><a href=\"#Interpret-Coefficients\" data-toc-modified-id=\"Interpret-Coefficients-1.13.2.1\"><span class=\"toc-item-num\">1.13.2.1&nbsp;&nbsp;</span>Interpret Coefficients</a></span></li></ul></li></ul></li><li><span><a href=\"#Conclusion\" data-toc-modified-id=\"Conclusion-1.14\"><span class=\"toc-item-num\">1.14&nbsp;&nbsp;</span>Conclusion</a></span></li><li><span><a href=\"#Limitations-and-Future-Steps\" data-toc-modified-id=\"Limitations-and-Future-Steps-1.15\"><span class=\"toc-item-num\">1.15&nbsp;&nbsp;</span>Limitations and Future Steps</a></span></li></ul></li></ul></div>"
   ]
  },
  {
   "cell_type": "markdown",
   "metadata": {},
   "source": [
    "## Import libraries and read in the data"
   ]
  },
  {
   "cell_type": "code",
   "execution_count": 1,
   "metadata": {
    "scrolled": true
   },
   "outputs": [
    {
     "name": "stdout",
     "output_type": "stream",
     "text": [
      "Requirement already satisfied: tabulate in /opt/anaconda3/lib/python3.7/site-packages (0.8.6)\r\n"
     ]
    }
   ],
   "source": [
    "!pip install tabulate"
   ]
  },
  {
   "cell_type": "code",
   "execution_count": 2,
   "metadata": {},
   "outputs": [],
   "source": [
    "import numpy as np\n",
    "import pandas as pd\n",
    "import matplotlib.pyplot as plt\n",
    "import seaborn as sns\n",
    "\n",
    "from nltk.tokenize import RegexpTokenizer\n",
    "from nltk.stem import WordNetLemmatizer\n",
    "\n",
    "from sklearn.feature_extraction.text import CountVectorizer, TfidfVectorizer\n",
    "from sklearn.feature_extraction.stop_words import ENGLISH_STOP_WORDS\n",
    "\n",
    "from sklearn.model_selection import train_test_split, GridSearchCV, cross_val_score\n",
    "from sklearn.pipeline import Pipeline\n",
    "\n",
    "from sklearn.naive_bayes import MultinomialNB, GaussianNB\n",
    "from sklearn.linear_model import LogisticRegression\n",
    "from sklearn.svm import SVC\n",
    "from sklearn.neighbors import KNeighborsClassifier\n",
    "\n",
    "from sklearn.metrics import confusion_matrix, roc_curve, auc, make_scorer, roc_auc_score\n",
    "\n",
    "\n",
    "import time\n",
    "\n",
    "# Styling \n",
    "from IPython.display import HTML, display\n",
    "import tabulate\n",
    "\n",
    "%matplotlib inline"
   ]
  },
  {
   "cell_type": "code",
   "execution_count": 3,
   "metadata": {},
   "outputs": [],
   "source": [
    "df = pd.read_csv('../data/final.csv')"
   ]
  },
  {
   "cell_type": "markdown",
   "metadata": {},
   "source": [
    "## Preliminary EDA "
   ]
  },
  {
   "cell_type": "code",
   "execution_count": 4,
   "metadata": {},
   "outputs": [
    {
     "data": {
      "text/html": [
       "<div>\n",
       "<style scoped>\n",
       "    .dataframe tbody tr th:only-of-type {\n",
       "        vertical-align: middle;\n",
       "    }\n",
       "\n",
       "    .dataframe tbody tr th {\n",
       "        vertical-align: top;\n",
       "    }\n",
       "\n",
       "    .dataframe thead th {\n",
       "        text-align: right;\n",
       "    }\n",
       "</style>\n",
       "<table border=\"1\" class=\"dataframe\">\n",
       "  <thead>\n",
       "    <tr style=\"text-align: right;\">\n",
       "      <th></th>\n",
       "      <th>Unnamed: 0</th>\n",
       "      <th>title</th>\n",
       "      <th>selftext</th>\n",
       "      <th>subreddit</th>\n",
       "      <th>created_utc</th>\n",
       "      <th>author</th>\n",
       "      <th>num_comments</th>\n",
       "      <th>score</th>\n",
       "      <th>is_self</th>\n",
       "      <th>timestamp</th>\n",
       "    </tr>\n",
       "  </thead>\n",
       "  <tbody>\n",
       "    <tr>\n",
       "      <th>0</th>\n",
       "      <td>0</td>\n",
       "      <td>The more I think on it, Rian’s treatment of Sn...</td>\n",
       "      <td>Obviously The Last Jedi has its fans and it’s ...</td>\n",
       "      <td>StarWars</td>\n",
       "      <td>1523027283</td>\n",
       "      <td>NickMoore30</td>\n",
       "      <td>155</td>\n",
       "      <td>168</td>\n",
       "      <td>True</td>\n",
       "      <td>2018-04-06</td>\n",
       "    </tr>\n",
       "    <tr>\n",
       "      <th>1</th>\n",
       "      <td>1</td>\n",
       "      <td>Tea, Earl Grey, Hot.</td>\n",
       "      <td>Did anyone ever think why Captain Picard alway...</td>\n",
       "      <td>startrek</td>\n",
       "      <td>1567337333</td>\n",
       "      <td>OX_Bigly</td>\n",
       "      <td>26</td>\n",
       "      <td>1</td>\n",
       "      <td>True</td>\n",
       "      <td>2019-09-01</td>\n",
       "    </tr>\n",
       "    <tr>\n",
       "      <th>2</th>\n",
       "      <td>2</td>\n",
       "      <td>The most improbable thing in Star trek imo</td>\n",
       "      <td>Just watched an episode of DS9 with Rom and Le...</td>\n",
       "      <td>startrek</td>\n",
       "      <td>1575721353</td>\n",
       "      <td>castiel65</td>\n",
       "      <td>6</td>\n",
       "      <td>1</td>\n",
       "      <td>True</td>\n",
       "      <td>2019-12-07</td>\n",
       "    </tr>\n",
       "    <tr>\n",
       "      <th>3</th>\n",
       "      <td>3</td>\n",
       "      <td>Why did the Voyager crew ever go in space again?</td>\n",
       "      <td>Call me a gutless mah'tog if you want. But if ...</td>\n",
       "      <td>startrek</td>\n",
       "      <td>1544332908</td>\n",
       "      <td>zombiecmh</td>\n",
       "      <td>6</td>\n",
       "      <td>1</td>\n",
       "      <td>True</td>\n",
       "      <td>2018-12-09</td>\n",
       "    </tr>\n",
       "    <tr>\n",
       "      <th>4</th>\n",
       "      <td>4</td>\n",
       "      <td>REVOLUTION</td>\n",
       "      <td>Brother, sisters!! We have laser weapons and m...</td>\n",
       "      <td>startrek</td>\n",
       "      <td>1551593655</td>\n",
       "      <td>svetambara</td>\n",
       "      <td>5</td>\n",
       "      <td>0</td>\n",
       "      <td>True</td>\n",
       "      <td>2019-03-03</td>\n",
       "    </tr>\n",
       "  </tbody>\n",
       "</table>\n",
       "</div>"
      ],
      "text/plain": [
       "   Unnamed: 0                                              title  \\\n",
       "0           0  The more I think on it, Rian’s treatment of Sn...   \n",
       "1           1                               Tea, Earl Grey, Hot.   \n",
       "2           2         The most improbable thing in Star trek imo   \n",
       "3           3   Why did the Voyager crew ever go in space again?   \n",
       "4           4                                         REVOLUTION   \n",
       "\n",
       "                                            selftext subreddit  created_utc  \\\n",
       "0  Obviously The Last Jedi has its fans and it’s ...  StarWars   1523027283   \n",
       "1  Did anyone ever think why Captain Picard alway...  startrek   1567337333   \n",
       "2  Just watched an episode of DS9 with Rom and Le...  startrek   1575721353   \n",
       "3  Call me a gutless mah'tog if you want. But if ...  startrek   1544332908   \n",
       "4  Brother, sisters!! We have laser weapons and m...  startrek   1551593655   \n",
       "\n",
       "        author  num_comments  score  is_self   timestamp  \n",
       "0  NickMoore30           155    168     True  2018-04-06  \n",
       "1     OX_Bigly            26      1     True  2019-09-01  \n",
       "2    castiel65             6      1     True  2019-12-07  \n",
       "3    zombiecmh             6      1     True  2018-12-09  \n",
       "4   svetambara             5      0     True  2019-03-03  "
      ]
     },
     "execution_count": 4,
     "metadata": {},
     "output_type": "execute_result"
    }
   ],
   "source": [
    "df.head()"
   ]
  },
  {
   "cell_type": "code",
   "execution_count": 5,
   "metadata": {},
   "outputs": [],
   "source": [
    "# Drop columns: 'Unnamed: 0', 'is_self'. These 2 columns are not irrelevant. \n",
    "df.drop(columns=['Unnamed: 0', 'is_self'], inplace=True)"
   ]
  },
  {
   "cell_type": "markdown",
   "metadata": {},
   "source": [
    "## EDA and Data Cleaning"
   ]
  },
  {
   "cell_type": "code",
   "execution_count": 6,
   "metadata": {},
   "outputs": [
    {
     "data": {
      "text/plain": [
       "(10000, 8)"
      ]
     },
     "execution_count": 6,
     "metadata": {},
     "output_type": "execute_result"
    }
   ],
   "source": [
    "# Check the shape of the data\n",
    "df.shape"
   ]
  },
  {
   "cell_type": "markdown",
   "metadata": {},
   "source": [
    "### Check data types"
   ]
  },
  {
   "cell_type": "markdown",
   "metadata": {},
   "source": [
    "1. All columns are in the correct data types\n",
    "2. The most frequent values of 'selftext' is '[removed]'. This is caused by mods removing some posts.\n",
    "3. The most frequent values of 'author' is '[deleted]'. This is caused by redditors deleting their acocunts.\n",
    "4. The unique value of 'author' is 7250, where as total count is 10000. This means some redditors post more than once in a subreddit. This information might help us to predict which subreddit a post comes from. I will explore this feature in the latter EDA sections. \n",
    "5. 'num_comments' and 'score' might be two helpful features to have: since there are about 228k members in the Star Trek subreddit, and 1.4m members in the Star Wars subreddit, if a post has many comments or very high score (num of upvotes - num of downvotes), it might be likely to be in the Star Wars Subreddit. In the following EDA process, I will explore whether this two features are worth including. "
   ]
  },
  {
   "cell_type": "code",
   "execution_count": 7,
   "metadata": {
    "scrolled": true
   },
   "outputs": [
    {
     "name": "stdout",
     "output_type": "stream",
     "text": [
      "<class 'pandas.core.frame.DataFrame'>\n",
      "RangeIndex: 10000 entries, 0 to 9999\n",
      "Data columns (total 8 columns):\n",
      "title           10000 non-null object\n",
      "selftext        9181 non-null object\n",
      "subreddit       10000 non-null object\n",
      "created_utc     10000 non-null int64\n",
      "author          10000 non-null object\n",
      "num_comments    10000 non-null int64\n",
      "score           10000 non-null int64\n",
      "timestamp       10000 non-null object\n",
      "dtypes: int64(3), object(5)\n",
      "memory usage: 625.1+ KB\n"
     ]
    }
   ],
   "source": [
    "# Check basic info and data types\n",
    "df.info()"
   ]
  },
  {
   "cell_type": "code",
   "execution_count": 8,
   "metadata": {},
   "outputs": [
    {
     "data": {
      "text/html": [
       "<div>\n",
       "<style scoped>\n",
       "    .dataframe tbody tr th:only-of-type {\n",
       "        vertical-align: middle;\n",
       "    }\n",
       "\n",
       "    .dataframe tbody tr th {\n",
       "        vertical-align: top;\n",
       "    }\n",
       "\n",
       "    .dataframe thead th {\n",
       "        text-align: right;\n",
       "    }\n",
       "</style>\n",
       "<table border=\"1\" class=\"dataframe\">\n",
       "  <thead>\n",
       "    <tr style=\"text-align: right;\">\n",
       "      <th></th>\n",
       "      <th>created_utc</th>\n",
       "      <th>num_comments</th>\n",
       "      <th>score</th>\n",
       "    </tr>\n",
       "  </thead>\n",
       "  <tbody>\n",
       "    <tr>\n",
       "      <th>count</th>\n",
       "      <td>1.000000e+04</td>\n",
       "      <td>10000.000000</td>\n",
       "      <td>10000.000000</td>\n",
       "    </tr>\n",
       "    <tr>\n",
       "      <th>mean</th>\n",
       "      <td>1.552608e+09</td>\n",
       "      <td>23.278500</td>\n",
       "      <td>26.209800</td>\n",
       "    </tr>\n",
       "    <tr>\n",
       "      <th>std</th>\n",
       "      <td>1.788631e+07</td>\n",
       "      <td>86.357567</td>\n",
       "      <td>366.741605</td>\n",
       "    </tr>\n",
       "    <tr>\n",
       "      <th>min</th>\n",
       "      <td>1.512610e+09</td>\n",
       "      <td>0.000000</td>\n",
       "      <td>0.000000</td>\n",
       "    </tr>\n",
       "    <tr>\n",
       "      <th>25%</th>\n",
       "      <td>1.543730e+09</td>\n",
       "      <td>2.000000</td>\n",
       "      <td>1.000000</td>\n",
       "    </tr>\n",
       "    <tr>\n",
       "      <th>50%</th>\n",
       "      <td>1.554483e+09</td>\n",
       "      <td>9.000000</td>\n",
       "      <td>1.000000</td>\n",
       "    </tr>\n",
       "    <tr>\n",
       "      <th>75%</th>\n",
       "      <td>1.567290e+09</td>\n",
       "      <td>22.000000</td>\n",
       "      <td>4.000000</td>\n",
       "    </tr>\n",
       "    <tr>\n",
       "      <th>max</th>\n",
       "      <td>1.578439e+09</td>\n",
       "      <td>5395.000000</td>\n",
       "      <td>24575.000000</td>\n",
       "    </tr>\n",
       "  </tbody>\n",
       "</table>\n",
       "</div>"
      ],
      "text/plain": [
       "        created_utc  num_comments         score\n",
       "count  1.000000e+04  10000.000000  10000.000000\n",
       "mean   1.552608e+09     23.278500     26.209800\n",
       "std    1.788631e+07     86.357567    366.741605\n",
       "min    1.512610e+09      0.000000      0.000000\n",
       "25%    1.543730e+09      2.000000      1.000000\n",
       "50%    1.554483e+09      9.000000      1.000000\n",
       "75%    1.567290e+09     22.000000      4.000000\n",
       "max    1.578439e+09   5395.000000  24575.000000"
      ]
     },
     "execution_count": 8,
     "metadata": {},
     "output_type": "execute_result"
    }
   ],
   "source": [
    "# Check numerical columns\n",
    "df.describe()"
   ]
  },
  {
   "cell_type": "code",
   "execution_count": 9,
   "metadata": {},
   "outputs": [
    {
     "data": {
      "text/html": [
       "<div>\n",
       "<style scoped>\n",
       "    .dataframe tbody tr th:only-of-type {\n",
       "        vertical-align: middle;\n",
       "    }\n",
       "\n",
       "    .dataframe tbody tr th {\n",
       "        vertical-align: top;\n",
       "    }\n",
       "\n",
       "    .dataframe thead th {\n",
       "        text-align: right;\n",
       "    }\n",
       "</style>\n",
       "<table border=\"1\" class=\"dataframe\">\n",
       "  <thead>\n",
       "    <tr style=\"text-align: right;\">\n",
       "      <th></th>\n",
       "      <th>title</th>\n",
       "      <th>selftext</th>\n",
       "      <th>subreddit</th>\n",
       "      <th>author</th>\n",
       "      <th>timestamp</th>\n",
       "    </tr>\n",
       "  </thead>\n",
       "  <tbody>\n",
       "    <tr>\n",
       "      <th>count</th>\n",
       "      <td>10000</td>\n",
       "      <td>9181</td>\n",
       "      <td>10000</td>\n",
       "      <td>10000</td>\n",
       "      <td>10000</td>\n",
       "    </tr>\n",
       "    <tr>\n",
       "      <th>unique</th>\n",
       "      <td>9905</td>\n",
       "      <td>7855</td>\n",
       "      <td>2</td>\n",
       "      <td>7250</td>\n",
       "      <td>220</td>\n",
       "    </tr>\n",
       "    <tr>\n",
       "      <th>top</th>\n",
       "      <td>Someone on Enterprise must have really liked G...</td>\n",
       "      <td>[removed]</td>\n",
       "      <td>startrek</td>\n",
       "      <td>[deleted]</td>\n",
       "      <td>2018-01-06</td>\n",
       "    </tr>\n",
       "    <tr>\n",
       "      <th>freq</th>\n",
       "      <td>4</td>\n",
       "      <td>1168</td>\n",
       "      <td>5000</td>\n",
       "      <td>162</td>\n",
       "      <td>205</td>\n",
       "    </tr>\n",
       "  </tbody>\n",
       "</table>\n",
       "</div>"
      ],
      "text/plain": [
       "                                                    title   selftext  \\\n",
       "count                                               10000       9181   \n",
       "unique                                               9905       7855   \n",
       "top     Someone on Enterprise must have really liked G...  [removed]   \n",
       "freq                                                    4       1168   \n",
       "\n",
       "       subreddit     author   timestamp  \n",
       "count      10000      10000       10000  \n",
       "unique         2       7250         220  \n",
       "top     startrek  [deleted]  2018-01-06  \n",
       "freq        5000        162         205  "
      ]
     },
     "execution_count": 9,
     "metadata": {},
     "output_type": "execute_result"
    }
   ],
   "source": [
    "# Check categorical columns\n",
    "df.describe(include='object')"
   ]
  },
  {
   "cell_type": "markdown",
   "metadata": {},
   "source": [
    "### Missing values "
   ]
  },
  {
   "cell_type": "markdown",
   "metadata": {},
   "source": [
    "1. There is no duplicated values (we filtered them out during the data collection process).\n",
    "2. The only column that has missing values is 'selftext', i.e. the body of the posts\n",
    "3. The meaning of missing values: sometimes redditors don't post anything in the body of the posts.\n",
    "4. We don't want to just drop the rows or columns that have NaNs, because it will reduce the statistic power; We can just replace NaN with 'notext'. "
   ]
  },
  {
   "cell_type": "code",
   "execution_count": 10,
   "metadata": {
    "scrolled": true
   },
   "outputs": [],
   "source": [
    "# Double check if there is any duplicated values\n",
    "assert len(df[df.duplicated(keep=False)]) == 0"
   ]
  },
  {
   "cell_type": "code",
   "execution_count": 11,
   "metadata": {},
   "outputs": [
    {
     "data": {
      "text/plain": [
       "title             0\n",
       "selftext        819\n",
       "subreddit         0\n",
       "created_utc       0\n",
       "author            0\n",
       "num_comments      0\n",
       "score             0\n",
       "timestamp         0\n",
       "dtype: int64"
      ]
     },
     "execution_count": 11,
     "metadata": {},
     "output_type": "execute_result"
    }
   ],
   "source": [
    "# Check number of NaNs\n",
    "df.isnull().sum()"
   ]
  },
  {
   "cell_type": "code",
   "execution_count": 12,
   "metadata": {},
   "outputs": [
    {
     "data": {
      "text/plain": [
       "title           0.0000\n",
       "selftext        0.0819\n",
       "subreddit       0.0000\n",
       "created_utc     0.0000\n",
       "author          0.0000\n",
       "num_comments    0.0000\n",
       "score           0.0000\n",
       "timestamp       0.0000\n",
       "dtype: float64"
      ]
     },
     "execution_count": 12,
     "metadata": {},
     "output_type": "execute_result"
    }
   ],
   "source": [
    "# Check percentage of NaNs\n",
    "df.isnull().mean()"
   ]
  },
  {
   "cell_type": "code",
   "execution_count": 13,
   "metadata": {},
   "outputs": [],
   "source": [
    "# Replace missing values with 'notext'\n",
    "df = df.replace(np.nan, 'notext')"
   ]
  },
  {
   "cell_type": "code",
   "execution_count": 14,
   "metadata": {},
   "outputs": [],
   "source": [
    "# Double check if all NaNs have been delt with\n",
    "assert df.isnull().sum().sum() == 0"
   ]
  },
  {
   "cell_type": "markdown",
   "metadata": {},
   "source": [
    "## Feature engineering"
   ]
  },
  {
   "cell_type": "markdown",
   "metadata": {},
   "source": [
    "Two features will be enginnerred: \n",
    "1. Length of 'selftext_length': based on my outside research, the posts in r/startrek tend to be more wordy. So the length of the posts might be a good predictor. In the following EDA sections, I will explore if this feature is worth including. \n",
    "2. Combine columns 'title' and 'selftext'. Since we will vectorize these two text columns and train the models, we might as well combine the two. "
   ]
  },
  {
   "cell_type": "code",
   "execution_count": 15,
   "metadata": {},
   "outputs": [],
   "source": [
    "# Create a column for the length of 'selftext_length'\n",
    "df['selftext_length'] = [len(i) for i in df['selftext']]"
   ]
  },
  {
   "cell_type": "code",
   "execution_count": 16,
   "metadata": {},
   "outputs": [],
   "source": [
    "# Create a column combining columns 'title' and 'selftext'\n",
    "df['title_and_selftext'] = df['title'] + ' ' + df['selftext']"
   ]
  },
  {
   "cell_type": "markdown",
   "metadata": {},
   "source": [
    "Since we will develop classification models, we should convert our target 'subreddit' to binary values."
   ]
  },
  {
   "cell_type": "code",
   "execution_count": 17,
   "metadata": {},
   "outputs": [],
   "source": [
    "# Create new column 'outcome', convert our target 'subreddit' to binary values\n",
    "df['outcome'] = [1 if i =='startrek' else 0 for i in df['subreddit']]"
   ]
  },
  {
   "cell_type": "code",
   "execution_count": 18,
   "metadata": {},
   "outputs": [
    {
     "data": {
      "text/html": [
       "<div>\n",
       "<style scoped>\n",
       "    .dataframe tbody tr th:only-of-type {\n",
       "        vertical-align: middle;\n",
       "    }\n",
       "\n",
       "    .dataframe tbody tr th {\n",
       "        vertical-align: top;\n",
       "    }\n",
       "\n",
       "    .dataframe thead th {\n",
       "        text-align: right;\n",
       "    }\n",
       "</style>\n",
       "<table border=\"1\" class=\"dataframe\">\n",
       "  <thead>\n",
       "    <tr style=\"text-align: right;\">\n",
       "      <th></th>\n",
       "      <th>title</th>\n",
       "      <th>selftext</th>\n",
       "      <th>subreddit</th>\n",
       "      <th>created_utc</th>\n",
       "      <th>author</th>\n",
       "      <th>num_comments</th>\n",
       "      <th>score</th>\n",
       "      <th>timestamp</th>\n",
       "      <th>selftext_length</th>\n",
       "      <th>title_and_selftext</th>\n",
       "      <th>outcome</th>\n",
       "    </tr>\n",
       "  </thead>\n",
       "  <tbody>\n",
       "    <tr>\n",
       "      <th>0</th>\n",
       "      <td>The more I think on it, Rian’s treatment of Sn...</td>\n",
       "      <td>Obviously The Last Jedi has its fans and it’s ...</td>\n",
       "      <td>StarWars</td>\n",
       "      <td>1523027283</td>\n",
       "      <td>NickMoore30</td>\n",
       "      <td>155</td>\n",
       "      <td>168</td>\n",
       "      <td>2018-04-06</td>\n",
       "      <td>1186</td>\n",
       "      <td>The more I think on it, Rian’s treatment of Sn...</td>\n",
       "      <td>0</td>\n",
       "    </tr>\n",
       "    <tr>\n",
       "      <th>1</th>\n",
       "      <td>Tea, Earl Grey, Hot.</td>\n",
       "      <td>Did anyone ever think why Captain Picard alway...</td>\n",
       "      <td>startrek</td>\n",
       "      <td>1567337333</td>\n",
       "      <td>OX_Bigly</td>\n",
       "      <td>26</td>\n",
       "      <td>1</td>\n",
       "      <td>2019-09-01</td>\n",
       "      <td>176</td>\n",
       "      <td>Tea, Earl Grey, Hot. Did anyone ever think why...</td>\n",
       "      <td>1</td>\n",
       "    </tr>\n",
       "    <tr>\n",
       "      <th>2</th>\n",
       "      <td>The most improbable thing in Star trek imo</td>\n",
       "      <td>Just watched an episode of DS9 with Rom and Le...</td>\n",
       "      <td>startrek</td>\n",
       "      <td>1575721353</td>\n",
       "      <td>castiel65</td>\n",
       "      <td>6</td>\n",
       "      <td>1</td>\n",
       "      <td>2019-12-07</td>\n",
       "      <td>689</td>\n",
       "      <td>The most improbable thing in Star trek imo Jus...</td>\n",
       "      <td>1</td>\n",
       "    </tr>\n",
       "    <tr>\n",
       "      <th>3</th>\n",
       "      <td>Why did the Voyager crew ever go in space again?</td>\n",
       "      <td>Call me a gutless mah'tog if you want. But if ...</td>\n",
       "      <td>startrek</td>\n",
       "      <td>1544332908</td>\n",
       "      <td>zombiecmh</td>\n",
       "      <td>6</td>\n",
       "      <td>1</td>\n",
       "      <td>2018-12-09</td>\n",
       "      <td>419</td>\n",
       "      <td>Why did the Voyager crew ever go in space agai...</td>\n",
       "      <td>1</td>\n",
       "    </tr>\n",
       "    <tr>\n",
       "      <th>4</th>\n",
       "      <td>REVOLUTION</td>\n",
       "      <td>Brother, sisters!! We have laser weapons and m...</td>\n",
       "      <td>startrek</td>\n",
       "      <td>1551593655</td>\n",
       "      <td>svetambara</td>\n",
       "      <td>5</td>\n",
       "      <td>0</td>\n",
       "      <td>2019-03-03</td>\n",
       "      <td>604</td>\n",
       "      <td>REVOLUTION Brother, sisters!! We have laser we...</td>\n",
       "      <td>1</td>\n",
       "    </tr>\n",
       "  </tbody>\n",
       "</table>\n",
       "</div>"
      ],
      "text/plain": [
       "                                               title  \\\n",
       "0  The more I think on it, Rian’s treatment of Sn...   \n",
       "1                               Tea, Earl Grey, Hot.   \n",
       "2         The most improbable thing in Star trek imo   \n",
       "3   Why did the Voyager crew ever go in space again?   \n",
       "4                                         REVOLUTION   \n",
       "\n",
       "                                            selftext subreddit  created_utc  \\\n",
       "0  Obviously The Last Jedi has its fans and it’s ...  StarWars   1523027283   \n",
       "1  Did anyone ever think why Captain Picard alway...  startrek   1567337333   \n",
       "2  Just watched an episode of DS9 with Rom and Le...  startrek   1575721353   \n",
       "3  Call me a gutless mah'tog if you want. But if ...  startrek   1544332908   \n",
       "4  Brother, sisters!! We have laser weapons and m...  startrek   1551593655   \n",
       "\n",
       "        author  num_comments  score   timestamp  selftext_length  \\\n",
       "0  NickMoore30           155    168  2018-04-06             1186   \n",
       "1     OX_Bigly            26      1  2019-09-01              176   \n",
       "2    castiel65             6      1  2019-12-07              689   \n",
       "3    zombiecmh             6      1  2018-12-09              419   \n",
       "4   svetambara             5      0  2019-03-03              604   \n",
       "\n",
       "                                  title_and_selftext  outcome  \n",
       "0  The more I think on it, Rian’s treatment of Sn...        0  \n",
       "1  Tea, Earl Grey, Hot. Did anyone ever think why...        1  \n",
       "2  The most improbable thing in Star trek imo Jus...        1  \n",
       "3  Why did the Voyager crew ever go in space agai...        1  \n",
       "4  REVOLUTION Brother, sisters!! We have laser we...        1  "
      ]
     },
     "execution_count": 18,
     "metadata": {},
     "output_type": "execute_result"
    }
   ],
   "source": [
    "df.head()"
   ]
  },
  {
   "cell_type": "markdown",
   "metadata": {},
   "source": [
    "## EDA Continued: Compare r/startrek with r/StarWars"
   ]
  },
  {
   "cell_type": "markdown",
   "metadata": {},
   "source": [
    "### First impression"
   ]
  },
  {
   "cell_type": "markdown",
   "metadata": {},
   "source": [
    "1. For score, both subreddit receive similar score on average. (we will not use this feature in modelling).\n",
    "2. For 'num_comments': posts on r/startrek on average receive more comments than r/StarWars, eventhough the former is a much smaller community (228k).\n",
    "3. For 'selftext_length', as I expected, the average length of post for r/startrek tend to be longer than r/StarWars.\n",
    "4. I will investigate futher into 2 and 3 in order to decide if they are good features for our models."
   ]
  },
  {
   "cell_type": "code",
   "execution_count": 19,
   "metadata": {
    "scrolled": false
   },
   "outputs": [
    {
     "data": {
      "text/html": [
       "<div>\n",
       "<style scoped>\n",
       "    .dataframe tbody tr th:only-of-type {\n",
       "        vertical-align: middle;\n",
       "    }\n",
       "\n",
       "    .dataframe tbody tr th {\n",
       "        vertical-align: top;\n",
       "    }\n",
       "\n",
       "    .dataframe thead th {\n",
       "        text-align: right;\n",
       "    }\n",
       "</style>\n",
       "<table border=\"1\" class=\"dataframe\">\n",
       "  <thead>\n",
       "    <tr style=\"text-align: right;\">\n",
       "      <th></th>\n",
       "      <th>created_utc</th>\n",
       "      <th>num_comments</th>\n",
       "      <th>score</th>\n",
       "      <th>selftext_length</th>\n",
       "      <th>outcome</th>\n",
       "    </tr>\n",
       "    <tr>\n",
       "      <th>subreddit</th>\n",
       "      <th></th>\n",
       "      <th></th>\n",
       "      <th></th>\n",
       "      <th></th>\n",
       "      <th></th>\n",
       "    </tr>\n",
       "  </thead>\n",
       "  <tbody>\n",
       "    <tr>\n",
       "      <th>StarWars</th>\n",
       "      <td>1.543799e+09</td>\n",
       "      <td>18.1218</td>\n",
       "      <td>25.8184</td>\n",
       "      <td>467.5216</td>\n",
       "      <td>0.0</td>\n",
       "    </tr>\n",
       "    <tr>\n",
       "      <th>startrek</th>\n",
       "      <td>1.561418e+09</td>\n",
       "      <td>28.4352</td>\n",
       "      <td>26.6012</td>\n",
       "      <td>522.1934</td>\n",
       "      <td>1.0</td>\n",
       "    </tr>\n",
       "  </tbody>\n",
       "</table>\n",
       "</div>"
      ],
      "text/plain": [
       "            created_utc  num_comments    score  selftext_length  outcome\n",
       "subreddit                                                               \n",
       "StarWars   1.543799e+09       18.1218  25.8184         467.5216      0.0\n",
       "startrek   1.561418e+09       28.4352  26.6012         522.1934      1.0"
      ]
     },
     "execution_count": 19,
     "metadata": {},
     "output_type": "execute_result"
    }
   ],
   "source": [
    "df.groupby(['subreddit']).mean()"
   ]
  },
  {
   "cell_type": "markdown",
   "metadata": {},
   "source": [
    "###   'num_comments'"
   ]
  },
  {
   "cell_type": "markdown",
   "metadata": {},
   "source": [
    "After comparing the 'num_comments' feature between r/startrek and r/StarWars, I found that both subreddit have very extreme outliers, i.e. some posts get extremely high number of comments.  \n",
    "My options are: (1) get rid of outliers and include this feature; (2) let the outliers stay and do not include this feature in my model. \n",
    "Since I aim to include as much as text information as possible, I choose to not get rid of the outliners. Therefore, this feature will be excluded. "
   ]
  },
  {
   "cell_type": "markdown",
   "metadata": {},
   "source": [
    "###  'selftext_length'"
   ]
  },
  {
   "cell_type": "markdown",
   "metadata": {},
   "source": [
    "Similar to 'num_comm, I found that both subreddit have very extreme outliers for post length, i.e. some posts are very long.  \n",
    "My options are: (1) get rid of outliers and include this feature; (2) let the outliers stay and do not include this feature in my model. \n",
    "Since I aim to include as much as text information as possible, I choose to not get rid of the outliners. Therefore, this feature will be excluded.                             "
   ]
  },
  {
   "cell_type": "markdown",
   "metadata": {},
   "source": [
    "### Other Categorical features"
   ]
  },
  {
   "cell_type": "markdown",
   "metadata": {},
   "source": [
    "I will also explore other categorical features to see which ones are worth including besides 'title' and 'selftext'."
   ]
  },
  {
   "cell_type": "code",
   "execution_count": 20,
   "metadata": {
    "scrolled": false
   },
   "outputs": [
    {
     "data": {
      "text/html": [
       "<div>\n",
       "<style scoped>\n",
       "    .dataframe tbody tr th:only-of-type {\n",
       "        vertical-align: middle;\n",
       "    }\n",
       "\n",
       "    .dataframe tbody tr th {\n",
       "        vertical-align: top;\n",
       "    }\n",
       "\n",
       "    .dataframe thead th {\n",
       "        text-align: right;\n",
       "    }\n",
       "</style>\n",
       "<table border=\"1\" class=\"dataframe\">\n",
       "  <thead>\n",
       "    <tr style=\"text-align: right;\">\n",
       "      <th></th>\n",
       "      <th>title</th>\n",
       "      <th>selftext</th>\n",
       "      <th>subreddit</th>\n",
       "      <th>author</th>\n",
       "      <th>timestamp</th>\n",
       "      <th>title_and_selftext</th>\n",
       "    </tr>\n",
       "  </thead>\n",
       "  <tbody>\n",
       "    <tr>\n",
       "      <th>count</th>\n",
       "      <td>5000</td>\n",
       "      <td>5000</td>\n",
       "      <td>5000</td>\n",
       "      <td>5000</td>\n",
       "      <td>5000</td>\n",
       "      <td>5000</td>\n",
       "    </tr>\n",
       "    <tr>\n",
       "      <th>unique</th>\n",
       "      <td>4974</td>\n",
       "      <td>4502</td>\n",
       "      <td>1</td>\n",
       "      <td>3331</td>\n",
       "      <td>175</td>\n",
       "      <td>4993</td>\n",
       "    </tr>\n",
       "    <tr>\n",
       "      <th>top</th>\n",
       "      <td>Someone on Enterprise must have really liked G...</td>\n",
       "      <td>notext</td>\n",
       "      <td>startrek</td>\n",
       "      <td>RagglenLove</td>\n",
       "      <td>2019-02-01</td>\n",
       "      <td>Someone on Enterprise must have really liked G...</td>\n",
       "    </tr>\n",
       "    <tr>\n",
       "      <th>freq</th>\n",
       "      <td>4</td>\n",
       "      <td>363</td>\n",
       "      <td>5000</td>\n",
       "      <td>26</td>\n",
       "      <td>79</td>\n",
       "      <td>4</td>\n",
       "    </tr>\n",
       "  </tbody>\n",
       "</table>\n",
       "</div>"
      ],
      "text/plain": [
       "                                                    title selftext subreddit  \\\n",
       "count                                                5000     5000      5000   \n",
       "unique                                               4974     4502         1   \n",
       "top     Someone on Enterprise must have really liked G...   notext  startrek   \n",
       "freq                                                    4      363      5000   \n",
       "\n",
       "             author   timestamp  \\\n",
       "count          5000        5000   \n",
       "unique         3331         175   \n",
       "top     RagglenLove  2019-02-01   \n",
       "freq             26          79   \n",
       "\n",
       "                                       title_and_selftext  \n",
       "count                                                5000  \n",
       "unique                                               4993  \n",
       "top     Someone on Enterprise must have really liked G...  \n",
       "freq                                                    4  "
      ]
     },
     "execution_count": 20,
     "metadata": {},
     "output_type": "execute_result"
    }
   ],
   "source": [
    "# \n",
    "df.loc[df['subreddit'] == 'startrek'].describe(include='object')"
   ]
  },
  {
   "cell_type": "code",
   "execution_count": 21,
   "metadata": {
    "scrolled": false
   },
   "outputs": [
    {
     "data": {
      "text/html": [
       "<div>\n",
       "<style scoped>\n",
       "    .dataframe tbody tr th:only-of-type {\n",
       "        vertical-align: middle;\n",
       "    }\n",
       "\n",
       "    .dataframe tbody tr th {\n",
       "        vertical-align: top;\n",
       "    }\n",
       "\n",
       "    .dataframe thead th {\n",
       "        text-align: right;\n",
       "    }\n",
       "</style>\n",
       "<table border=\"1\" class=\"dataframe\">\n",
       "  <thead>\n",
       "    <tr style=\"text-align: right;\">\n",
       "      <th></th>\n",
       "      <th>title</th>\n",
       "      <th>selftext</th>\n",
       "      <th>subreddit</th>\n",
       "      <th>author</th>\n",
       "      <th>timestamp</th>\n",
       "      <th>title_and_selftext</th>\n",
       "    </tr>\n",
       "  </thead>\n",
       "  <tbody>\n",
       "    <tr>\n",
       "      <th>count</th>\n",
       "      <td>5000</td>\n",
       "      <td>5000</td>\n",
       "      <td>5000</td>\n",
       "      <td>5000</td>\n",
       "      <td>5000</td>\n",
       "      <td>5000</td>\n",
       "    </tr>\n",
       "    <tr>\n",
       "      <th>unique</th>\n",
       "      <td>4935</td>\n",
       "      <td>3362</td>\n",
       "      <td>1</td>\n",
       "      <td>3982</td>\n",
       "      <td>98</td>\n",
       "      <td>4975</td>\n",
       "    </tr>\n",
       "    <tr>\n",
       "      <th>top</th>\n",
       "      <td>Star Wars: David Benioff and D.B. Weiss Begin ...</td>\n",
       "      <td>[removed]</td>\n",
       "      <td>StarWars</td>\n",
       "      <td>[deleted]</td>\n",
       "      <td>2018-01-06</td>\n",
       "      <td>Star Wars Live-Action TV Show Reportedly Casts...</td>\n",
       "    </tr>\n",
       "    <tr>\n",
       "      <th>freq</th>\n",
       "      <td>3</td>\n",
       "      <td>1063</td>\n",
       "      <td>5000</td>\n",
       "      <td>147</td>\n",
       "      <td>205</td>\n",
       "      <td>3</td>\n",
       "    </tr>\n",
       "  </tbody>\n",
       "</table>\n",
       "</div>"
      ],
      "text/plain": [
       "                                                    title   selftext  \\\n",
       "count                                                5000       5000   \n",
       "unique                                               4935       3362   \n",
       "top     Star Wars: David Benioff and D.B. Weiss Begin ...  [removed]   \n",
       "freq                                                    3       1063   \n",
       "\n",
       "       subreddit     author   timestamp  \\\n",
       "count       5000       5000        5000   \n",
       "unique         1       3982          98   \n",
       "top     StarWars  [deleted]  2018-01-06   \n",
       "freq        5000        147         205   \n",
       "\n",
       "                                       title_and_selftext  \n",
       "count                                                5000  \n",
       "unique                                               4975  \n",
       "top     Star Wars Live-Action TV Show Reportedly Casts...  \n",
       "freq                                                    3  "
      ]
     },
     "execution_count": 21,
     "metadata": {},
     "output_type": "execute_result"
    }
   ],
   "source": [
    "df.loc[df['subreddit'] == 'StarWars'].describe(include='object')"
   ]
  },
  {
   "cell_type": "markdown",
   "metadata": {},
   "source": [
    "Would the feature 'author' be a good predictor? Looking into the most frequent posters across these two subreddits, the most common 'author' were those who deleted their account. Dipite of the 'deleted', the rest of the top posters didn't post more than 0.3% for our dataset (i.e. they don't post that frequently). I don't think this feature will help to predict the outcome."
   ]
  },
  {
   "cell_type": "code",
   "execution_count": 22,
   "metadata": {
    "scrolled": true
   },
   "outputs": [
    {
     "data": {
      "text/plain": [
       "[deleted]               0.0162\n",
       "RagglenLove             0.0029\n",
       "bluejeans90210          0.0020\n",
       "Samof94                 0.0017\n",
       "Blackhand82             0.0016\n",
       "TheFiveStarMan          0.0015\n",
       "richterman2369          0.0014\n",
       "CT-1138                 0.0014\n",
       "ChetDinkly              0.0014\n",
       "derstherower            0.0013\n",
       "Bootlebat               0.0013\n",
       "Smooth_Complaint        0.0013\n",
       "deepFriedGarak          0.0013\n",
       "Deceptitron             0.0012\n",
       "Scotty_C_89             0.0012\n",
       "MrPNGuin                0.0012\n",
       "RandomTrekReview        0.0011\n",
       "AldoPeck                0.0011\n",
       "Interplanetary_Giraf    0.0011\n",
       "Fishy1701               0.0010\n",
       "Name: author, dtype: float64"
      ]
     },
     "execution_count": 22,
     "metadata": {},
     "output_type": "execute_result"
    }
   ],
   "source": [
    "# Get the top 20 most frequent posters \n",
    "df['author'].value_counts(normalize=True, ascending=False).nlargest(20)"
   ]
  },
  {
   "cell_type": "markdown",
   "metadata": {},
   "source": [
    "## Pre-Processing"
   ]
  },
  {
   "cell_type": "markdown",
   "metadata": {},
   "source": [
    "### Tokenizing,  Lemmatizing, and Custom Stopwords"
   ]
  },
  {
   "cell_type": "markdown",
   "metadata": {},
   "source": [
    "- Lemmatizing coverts every word to its base lemma, i.e. its form in a dictionary. \n",
    "- I chose to lemmatize the text instead of stemming, since it often yields more accurate results, albeit slower. \n",
    "- In this section, I will tokenize, lemmatize, using stopwords to pre-process the data. I will then create a list of custom stopwords to be used in the pipelines for modeling. "
   ]
  },
  {
   "cell_type": "code",
   "execution_count": 23,
   "metadata": {},
   "outputs": [],
   "source": [
    "# Instantiate Tokenizer\n",
    "tokenizer = RegexpTokenizer(r'\\w+') # We only keep words \n",
    "\n",
    "# Instantiate lemmatizer\n",
    "lemmatizer = WordNetLemmatizer()"
   ]
  },
  {
   "cell_type": "code",
   "execution_count": 24,
   "metadata": {},
   "outputs": [],
   "source": [
    "# Create a for loop to tokenize and lemmatize each post \n",
    "# Reference: https://github.com/a-bergman/Reddit-Post-Classification/blob/master/Code/Preprocessing%20%26%20Modeling.ipynb\n",
    "lemmatized_text = []\n",
    "for post in df['title_and_selftext']:\n",
    "    tokens = tokenizer.tokenize(post.lower())\n",
    "    lemmatized = [lemmatizer.lemmatize(token) for token in tokens]\n",
    "    lemmatized_text.append(\" \".join(lemmatized))"
   ]
  },
  {
   "cell_type": "code",
   "execution_count": 25,
   "metadata": {},
   "outputs": [],
   "source": [
    "# Create a new column called 'lemmatized_text'\n",
    "df['lemmatized_text'] = lemmatized_text"
   ]
  },
  {
   "cell_type": "code",
   "execution_count": 26,
   "metadata": {
    "scrolled": false
   },
   "outputs": [
    {
     "data": {
      "text/html": [
       "<div>\n",
       "<style scoped>\n",
       "    .dataframe tbody tr th:only-of-type {\n",
       "        vertical-align: middle;\n",
       "    }\n",
       "\n",
       "    .dataframe tbody tr th {\n",
       "        vertical-align: top;\n",
       "    }\n",
       "\n",
       "    .dataframe thead th {\n",
       "        text-align: right;\n",
       "    }\n",
       "</style>\n",
       "<table border=\"1\" class=\"dataframe\">\n",
       "  <thead>\n",
       "    <tr style=\"text-align: right;\">\n",
       "      <th></th>\n",
       "      <th>title</th>\n",
       "      <th>selftext</th>\n",
       "      <th>subreddit</th>\n",
       "      <th>created_utc</th>\n",
       "      <th>author</th>\n",
       "      <th>num_comments</th>\n",
       "      <th>score</th>\n",
       "      <th>timestamp</th>\n",
       "      <th>selftext_length</th>\n",
       "      <th>title_and_selftext</th>\n",
       "      <th>outcome</th>\n",
       "      <th>lemmatized_text</th>\n",
       "    </tr>\n",
       "  </thead>\n",
       "  <tbody>\n",
       "    <tr>\n",
       "      <th>0</th>\n",
       "      <td>The more I think on it, Rian’s treatment of Sn...</td>\n",
       "      <td>Obviously The Last Jedi has its fans and it’s ...</td>\n",
       "      <td>StarWars</td>\n",
       "      <td>1523027283</td>\n",
       "      <td>NickMoore30</td>\n",
       "      <td>155</td>\n",
       "      <td>168</td>\n",
       "      <td>2018-04-06</td>\n",
       "      <td>1186</td>\n",
       "      <td>The more I think on it, Rian’s treatment of Sn...</td>\n",
       "      <td>0</td>\n",
       "      <td>the more i think on it rian s treatment of sno...</td>\n",
       "    </tr>\n",
       "    <tr>\n",
       "      <th>1</th>\n",
       "      <td>Tea, Earl Grey, Hot.</td>\n",
       "      <td>Did anyone ever think why Captain Picard alway...</td>\n",
       "      <td>startrek</td>\n",
       "      <td>1567337333</td>\n",
       "      <td>OX_Bigly</td>\n",
       "      <td>26</td>\n",
       "      <td>1</td>\n",
       "      <td>2019-09-01</td>\n",
       "      <td>176</td>\n",
       "      <td>Tea, Earl Grey, Hot. Did anyone ever think why...</td>\n",
       "      <td>1</td>\n",
       "      <td>tea earl grey hot did anyone ever think why ca...</td>\n",
       "    </tr>\n",
       "  </tbody>\n",
       "</table>\n",
       "</div>"
      ],
      "text/plain": [
       "                                               title  \\\n",
       "0  The more I think on it, Rian’s treatment of Sn...   \n",
       "1                               Tea, Earl Grey, Hot.   \n",
       "\n",
       "                                            selftext subreddit  created_utc  \\\n",
       "0  Obviously The Last Jedi has its fans and it’s ...  StarWars   1523027283   \n",
       "1  Did anyone ever think why Captain Picard alway...  startrek   1567337333   \n",
       "\n",
       "        author  num_comments  score   timestamp  selftext_length  \\\n",
       "0  NickMoore30           155    168  2018-04-06             1186   \n",
       "1     OX_Bigly            26      1  2019-09-01              176   \n",
       "\n",
       "                                  title_and_selftext  outcome  \\\n",
       "0  The more I think on it, Rian’s treatment of Sn...        0   \n",
       "1  Tea, Earl Grey, Hot. Did anyone ever think why...        1   \n",
       "\n",
       "                                     lemmatized_text  \n",
       "0  the more i think on it rian s treatment of sno...  \n",
       "1  tea earl grey hot did anyone ever think why ca...  "
      ]
     },
     "execution_count": 26,
     "metadata": {},
     "output_type": "execute_result"
    }
   ],
   "source": [
    "df.head(2)"
   ]
  },
  {
   "cell_type": "markdown",
   "metadata": {},
   "source": [
    "### CountVectorizer"
   ]
  },
  {
   "cell_type": "markdown",
   "metadata": {},
   "source": [
    "- In order to analysize the distribution of each word in the posts, I will use CountVectorizer in the EDA process to transform the column 'lemmatized_text' into a sparse matrix.\n",
    "- This step is just to analyze and visulize the distribution of words. \n",
    "- In the modelling section, I will try out both CountVectorizer and TFIDF. "
   ]
  },
  {
   "cell_type": "code",
   "execution_count": 27,
   "metadata": {
    "scrolled": true
   },
   "outputs": [],
   "source": [
    "# Instantiate CountVectorizer, add stop_words\n",
    "cvec = CountVectorizer(stop_words='english')\n",
    "# fit_tranform\n",
    "vectorized_text = cvec.fit_transform(df['lemmatized_text'])\n",
    "# Turn the sparse matrix into a df\n",
    "df_sparse = pd.DataFrame(vectorized_text.toarray(),\n",
    "             columns=cvec.get_feature_names())"
   ]
  },
  {
   "cell_type": "code",
   "execution_count": 28,
   "metadata": {
    "scrolled": true
   },
   "outputs": [
    {
     "data": {
      "text/plain": [
       "(10000, 28202)"
      ]
     },
     "execution_count": 28,
     "metadata": {},
     "output_type": "execute_result"
    }
   ],
   "source": [
    "# Check the shape of dataframe\n",
    "df_sparse.shape"
   ]
  },
  {
   "cell_type": "code",
   "execution_count": 29,
   "metadata": {
    "scrolled": true
   },
   "outputs": [],
   "source": [
    "# Create a new dataframe using the top 50 most common words \n",
    "top_words = pd.DataFrame(df_sparse.sum().sort_values(ascending=False).nlargest(50), \n",
    "             columns=['frequency'])"
   ]
  },
  {
   "cell_type": "code",
   "execution_count": 30,
   "metadata": {
    "scrolled": false
   },
   "outputs": [
    {
     "data": {
      "text/plain": [
       "Text(0.5, 0, 'Frequency of Words')"
      ]
     },
     "execution_count": 30,
     "metadata": {},
     "output_type": "execute_result"
    },
    {
     "data": {
      "image/png": "[encoded data removed]",
      "text/plain": [
       "<Figure size 864x720 with 1 Axes>"
      ]
     },
     "metadata": {
      "needs_background": "light"
     },
     "output_type": "display_data"
    }
   ],
   "source": [
    "# Plot these most common words\n",
    "plt.figure(figsize=(12,10))\n",
    "ax = sns.barplot(x='frequency', y=top_words.index, data=top_words, palette=\"GnBu_d\")\n",
    "ax.set_title('Top 50 Most Common Words')\n",
    "ax.set_xlabel('Frequency of Words')"
   ]
  },
  {
   "cell_type": "markdown",
   "metadata": {},
   "source": [
    "Based on this bar chart, we can tell some of the most common words such 'jedi' or 'picard' are particular to its respective subreddit. However, some other words are common to both subreddits, such as 'like', 'just', 'thing', and we will add those words to our custom stopwords."
   ]
  },
  {
   "cell_type": "markdown",
   "metadata": {},
   "source": [
    "### Find the most common words in r/startrek vs. r/StarWars"
   ]
  },
  {
   "cell_type": "markdown",
   "metadata": {},
   "source": [
    "I will find the top 50 most common words in each subreddit: r/startrek and r/StarWars, get the intersection of these two group of words, and add those words in the custom stop_words."
   ]
  },
  {
   "cell_type": "markdown",
   "metadata": {},
   "source": [
    "#### r/startrek"
   ]
  },
  {
   "cell_type": "code",
   "execution_count": 31,
   "metadata": {},
   "outputs": [],
   "source": [
    "# Filter dataframe by outcome\n",
    "df_startrek = df.loc[df['outcome']== 1]"
   ]
  },
  {
   "cell_type": "code",
   "execution_count": 32,
   "metadata": {
    "scrolled": true
   },
   "outputs": [],
   "source": [
    "# Instantiate CountVectorizer, add stop_words\n",
    "cvec_startrek = CountVectorizer(stop_words='english')\n",
    "# fit_tranform\n",
    "vectorized_text_startrek = cvec_startrek.fit_transform(df_startrek['lemmatized_text'])\n",
    "# Turn the sparse matrix into a df\n",
    "df_sparse_startrek = pd.DataFrame(vectorized_text_startrek.toarray(),\n",
    "                                  columns=cvec_startrek.get_feature_names())"
   ]
  },
  {
   "cell_type": "code",
   "execution_count": 33,
   "metadata": {
    "scrolled": true
   },
   "outputs": [
    {
     "data": {
      "text/plain": [
       "(5000, 20562)"
      ]
     },
     "execution_count": 33,
     "metadata": {},
     "output_type": "execute_result"
    }
   ],
   "source": [
    "# Check the shape of dataframe\n",
    "df_sparse_startrek.shape"
   ]
  },
  {
   "cell_type": "code",
   "execution_count": 34,
   "metadata": {},
   "outputs": [],
   "source": [
    "# Select the top 50 most requent words in r/startrek and turn them into a dataframe\n",
    "top_words_startrek = pd.DataFrame(df_sparse_startrek.sum().sort_values(ascending=False).nlargest(50), \n",
    "                                  columns=['frequency'])"
   ]
  },
  {
   "cell_type": "code",
   "execution_count": 35,
   "metadata": {
    "scrolled": true
   },
   "outputs": [
    {
     "data": {
      "text/html": [
       "<div>\n",
       "<style scoped>\n",
       "    .dataframe tbody tr th:only-of-type {\n",
       "        vertical-align: middle;\n",
       "    }\n",
       "\n",
       "    .dataframe tbody tr th {\n",
       "        vertical-align: top;\n",
       "    }\n",
       "\n",
       "    .dataframe thead th {\n",
       "        text-align: right;\n",
       "    }\n",
       "</style>\n",
       "<table border=\"1\" class=\"dataframe\">\n",
       "  <thead>\n",
       "    <tr style=\"text-align: right;\">\n",
       "      <th></th>\n",
       "      <th>frequency</th>\n",
       "    </tr>\n",
       "  </thead>\n",
       "  <tbody>\n",
       "    <tr>\n",
       "      <th>trek</th>\n",
       "      <td>3871</td>\n",
       "    </tr>\n",
       "    <tr>\n",
       "      <th>wa</th>\n",
       "      <td>3813</td>\n",
       "    </tr>\n",
       "    <tr>\n",
       "      <th>star</th>\n",
       "      <td>3361</td>\n",
       "    </tr>\n",
       "    <tr>\n",
       "      <th>episode</th>\n",
       "      <td>2835</td>\n",
       "    </tr>\n",
       "    <tr>\n",
       "      <th>like</th>\n",
       "      <td>2407</td>\n",
       "    </tr>\n",
       "  </tbody>\n",
       "</table>\n",
       "</div>"
      ],
      "text/plain": [
       "         frequency\n",
       "trek          3871\n",
       "wa            3813\n",
       "star          3361\n",
       "episode       2835\n",
       "like          2407"
      ]
     },
     "execution_count": 35,
     "metadata": {},
     "output_type": "execute_result"
    }
   ],
   "source": [
    "# Check the head of the dataframe\n",
    "top_words_startrek.head()"
   ]
  },
  {
   "cell_type": "markdown",
   "metadata": {},
   "source": [
    "#### r/StarWars"
   ]
  },
  {
   "cell_type": "code",
   "execution_count": 36,
   "metadata": {},
   "outputs": [],
   "source": [
    "# Filter dataframe by outcome\n",
    "df_starwars = df.loc[df['outcome']==0]"
   ]
  },
  {
   "cell_type": "code",
   "execution_count": 37,
   "metadata": {
    "scrolled": true
   },
   "outputs": [],
   "source": [
    "# Instantiate CountVectorizer, add stop_words\n",
    "cvec_starwars = CountVectorizer(stop_words='english')\n",
    "# fit_tranform\n",
    "vectorized_text_starwars = cvec_starwars.fit_transform(df_starwars['lemmatized_text'])\n",
    "# Turn the sparse matrix into a df\n",
    "df_sparse_starwars = pd.DataFrame(vectorized_text_starwars.toarray(),\n",
    "                                  columns=cvec_starwars.get_feature_names())"
   ]
  },
  {
   "cell_type": "code",
   "execution_count": 38,
   "metadata": {
    "scrolled": true
   },
   "outputs": [
    {
     "data": {
      "text/plain": [
       "(5000, 17137)"
      ]
     },
     "execution_count": 38,
     "metadata": {},
     "output_type": "execute_result"
    }
   ],
   "source": [
    "# Check the shape of dataframe\n",
    "df_sparse_starwars.shape"
   ]
  },
  {
   "cell_type": "code",
   "execution_count": 39,
   "metadata": {},
   "outputs": [],
   "source": [
    "# Select the top 50 most requent words in r/startrek and turn them into a dataframe\n",
    "top_words_starwars = pd.DataFrame(df_sparse_starwars.sum().sort_values(ascending=False).nlargest(50), \n",
    "                                  columns=['frequency'])"
   ]
  },
  {
   "cell_type": "code",
   "execution_count": 40,
   "metadata": {
    "scrolled": true
   },
   "outputs": [
    {
     "data": {
      "text/html": [
       "<div>\n",
       "<style scoped>\n",
       "    .dataframe tbody tr th:only-of-type {\n",
       "        vertical-align: middle;\n",
       "    }\n",
       "\n",
       "    .dataframe tbody tr th {\n",
       "        vertical-align: top;\n",
       "    }\n",
       "\n",
       "    .dataframe thead th {\n",
       "        text-align: right;\n",
       "    }\n",
       "</style>\n",
       "<table border=\"1\" class=\"dataframe\">\n",
       "  <thead>\n",
       "    <tr style=\"text-align: right;\">\n",
       "      <th></th>\n",
       "      <th>frequency</th>\n",
       "    </tr>\n",
       "  </thead>\n",
       "  <tbody>\n",
       "    <tr>\n",
       "      <th>wa</th>\n",
       "      <td>3784</td>\n",
       "    </tr>\n",
       "    <tr>\n",
       "      <th>war</th>\n",
       "      <td>3514</td>\n",
       "    </tr>\n",
       "    <tr>\n",
       "      <th>star</th>\n",
       "      <td>3151</td>\n",
       "    </tr>\n",
       "    <tr>\n",
       "      <th>like</th>\n",
       "      <td>2304</td>\n",
       "    </tr>\n",
       "    <tr>\n",
       "      <th>movie</th>\n",
       "      <td>2097</td>\n",
       "    </tr>\n",
       "  </tbody>\n",
       "</table>\n",
       "</div>"
      ],
      "text/plain": [
       "       frequency\n",
       "wa          3784\n",
       "war         3514\n",
       "star        3151\n",
       "like        2304\n",
       "movie       2097"
      ]
     },
     "execution_count": 40,
     "metadata": {},
     "output_type": "execute_result"
    }
   ],
   "source": [
    "# Check the head of the dataframe\n",
    "top_words_starwars.head()"
   ]
  },
  {
   "cell_type": "markdown",
   "metadata": {},
   "source": [
    "#### Ploting r/startrek and r/StarWars"
   ]
  },
  {
   "cell_type": "code",
   "execution_count": 41,
   "metadata": {
    "scrolled": false
   },
   "outputs": [
    {
     "data": {
      "image/png": "[encoded data removed]",
      "text/plain": [
       "<Figure size 1152x720 with 2 Axes>"
      ]
     },
     "metadata": {
      "needs_background": "light"
     },
     "output_type": "display_data"
    }
   ],
   "source": [
    "# Plot the frequency of words.\n",
    "fig, ax =plt.subplots(nrows=1, ncols=2, figsize=(16, 10))\n",
    "\n",
    "sns.barplot(x='frequency', y=top_words_startrek.index, data=top_words_startrek, ax=ax[0], palette=\"GnBu_d\")\n",
    "ax[0].set_title('Top 50 Most Common Words in r/startrek')\n",
    "ax[0].set_xlabel('Frequency of Words')\n",
    "\n",
    "sns.barplot(x='frequency', y=top_words_starwars.index, data=top_words_startrek, ax=ax[1], palette=\"GnBu_d\")\n",
    "ax[1].set_title('Top 50 Most Common Words in r/StarWars')\n",
    "ax[1].set_xlabel('Frequency of Words');"
   ]
  },
  {
   "cell_type": "markdown",
   "metadata": {},
   "source": [
    "From this bar chart, we can see that some words are common to both subreddits, such as 'wa', 'like', 'just', 'time'. Those words won't be great predictors, and will be added to the custom stopwords. "
   ]
  },
  {
   "cell_type": "markdown",
   "metadata": {},
   "source": [
    "### Create custom stopwords\n",
    "- I will find the intersect of the most common words from both subreddits and add them to the custom stopwords\n",
    "- I will pass in the custom stopwords in my models in the modeling section."
   ]
  },
  {
   "cell_type": "code",
   "execution_count": 42,
   "metadata": {
    "scrolled": true
   },
   "outputs": [],
   "source": [
    "# Find the intersection and turn it into alist\n",
    "custom_stopwords = list(set(top_words_startrek.index).intersection(set(top_words_starwars.index)))"
   ]
  },
  {
   "cell_type": "code",
   "execution_count": 43,
   "metadata": {},
   "outputs": [],
   "source": [
    "# Add in the default stopwords\n",
    "custom_stopwords.extend(list(ENGLISH_STOP_WORDS))"
   ]
  },
  {
   "cell_type": "markdown",
   "metadata": {},
   "source": [
    "In addition, I will add the following words to the custom stopword, since those words are basically 'giveaways' for our prediciton. "
   ]
  },
  {
   "cell_type": "code",
   "execution_count": 44,
   "metadata": {},
   "outputs": [],
   "source": [
    "custom_stopwords.extend(['war', 'trek', 'startrek'])"
   ]
  },
  {
   "cell_type": "markdown",
   "metadata": {},
   "source": [
    "## Model Preparation"
   ]
  },
  {
   "cell_type": "code",
   "execution_count": 45,
   "metadata": {
    "scrolled": true
   },
   "outputs": [],
   "source": [
    "# Select our feature and target here\n",
    "# X is a vector, not a matrix \n",
    "X = df['lemmatized_text']\n",
    "y = df['outcome']"
   ]
  },
  {
   "cell_type": "markdown",
   "metadata": {},
   "source": [
    "## Train, Test Split"
   ]
  },
  {
   "cell_type": "markdown",
   "metadata": {},
   "source": [
    "1. Since our dataset is large enough (n=10_000), we will reserve 20% (2k) of the data as test data. \n",
    "2. We will use 'stratify = y' to ensure the classes of y are balanced in both train and test."
   ]
  },
  {
   "cell_type": "code",
   "execution_count": 46,
   "metadata": {},
   "outputs": [],
   "source": [
    "X_train, X_test, y_train, y_test = train_test_split(X, y, random_state=42, test_size=0.2, stratify=y)"
   ]
  },
  {
   "cell_type": "markdown",
   "metadata": {},
   "source": [
    "### Check distributions of Y to make sure we have balanced classes"
   ]
  },
  {
   "cell_type": "markdown",
   "metadata": {},
   "source": [
    "Since the dataframe has been collected with balanced classes and we set 'stratify = y', unbalanced classes should not be an issue. "
   ]
  },
  {
   "cell_type": "code",
   "execution_count": 47,
   "metadata": {},
   "outputs": [
    {
     "data": {
      "text/plain": [
       "1    0.5\n",
       "0    0.5\n",
       "Name: outcome, dtype: float64"
      ]
     },
     "execution_count": 47,
     "metadata": {},
     "output_type": "execute_result"
    }
   ],
   "source": [
    "# Check distribution of y, to see if y has unblanced classes\n",
    "y.value_counts(normalize=True)"
   ]
  },
  {
   "cell_type": "code",
   "execution_count": 48,
   "metadata": {},
   "outputs": [
    {
     "data": {
      "text/plain": [
       "1    0.5\n",
       "0    0.5\n",
       "Name: outcome, dtype: float64"
      ]
     },
     "execution_count": 48,
     "metadata": {},
     "output_type": "execute_result"
    }
   ],
   "source": [
    "# Check distribution of y_train\n",
    "y_train.value_counts(normalize=True)"
   ]
  },
  {
   "cell_type": "code",
   "execution_count": 49,
   "metadata": {},
   "outputs": [
    {
     "data": {
      "text/plain": [
       "1    0.5\n",
       "0    0.5\n",
       "Name: outcome, dtype: float64"
      ]
     },
     "execution_count": 49,
     "metadata": {},
     "output_type": "execute_result"
    }
   ],
   "source": [
    "# Check distribution of y_test\n",
    "y_test.value_counts(normalize=True)"
   ]
  },
  {
   "cell_type": "markdown",
   "metadata": {},
   "source": [
    "## Modeling"
   ]
  },
  {
   "cell_type": "markdown",
   "metadata": {},
   "source": [
    "- In the modeling process, I will first present my baseline model.  \n",
    "- I will then develop 4 major categories of models: Naive Bayes Models (Multinomial and Gaussian), Logistic Regression Models, KNN model, and SVM. \n",
    "- I will use pipeline to combine each model (estimator) with different transformers, such as CountVectorizer and TFIDF.\n",
    "- Based on the grid search's cross validation score, I will then fine tune the hyper-parameters for each model to achieve the optimal result. "
   ]
  },
  {
   "cell_type": "markdown",
   "metadata": {},
   "source": [
    "### Evaluation Metric"
   ]
  },
  {
   "cell_type": "markdown",
   "metadata": {},
   "source": [
    "- Before I go into developing the models, I will briefly discuss the evaluation metric: AUC ROC. \n",
    "\n",
    "- \"ROC (Receiver Operating Characteristic) is a probability curve and AUC represents degree or measure of separability. It tells how much model is capable of distinguishing between classes\"[(reference)](https://towardsdatascience.com/understanding-auc-roc-curve-68b2303cc9c5). The higher the ROC, and the better it seperates the two classes r/startrek and r/StarWars. The ROC curve is plotted with True Positive Rate on y-aixs, against the False Positive Rate on the x-axis.\n",
    "\n",
    "- AUC (Area Under the Curve) measures the entire two-dimensional area underneath the entire ROC curve. The closer AUC to 1, the better the model.\n",
    "\n",
    "- I choose AUC ROC since I aim to find the optimal model that can separate the two classes r/startrek and r/StarWars really well. \n",
    "\n",
    "- I will also consider the amount of time each model take to fit. If two models have similar AUC ROC scores, the one that runs faster will be the model we choose. "
   ]
  },
  {
   "cell_type": "markdown",
   "metadata": {},
   "source": [
    "###  Baseline Model"
   ]
  },
  {
   "cell_type": "markdown",
   "metadata": {},
   "source": [
    "Baseline Model is just the percentage of the postive class. i.e. 0.5.  The AUC ROC score is also 0.5 (i.e. it does not seperate the positive class vs. the negative class at all.) "
   ]
  },
  {
   "cell_type": "code",
   "execution_count": 50,
   "metadata": {},
   "outputs": [
    {
     "data": {
      "text/plain": [
       "0.5"
      ]
     },
     "execution_count": 50,
     "metadata": {},
     "output_type": "execute_result"
    }
   ],
   "source": [
    "y_test.value_counts(normalize=True)[0]"
   ]
  },
  {
   "cell_type": "markdown",
   "metadata": {},
   "source": [
    "### Naive Bayes Models"
   ]
  },
  {
   "cell_type": "markdown",
   "metadata": {},
   "source": [
    "- Naive Bayes Models are based on Bayes' Theorem. Using Naive Bayes Models, we can calculate the probability of a post being on r/startrek given certain words they use in their post. \n",
    "- The advantage of Naive Bayes Models: they are simple are fast, and work well with high-dimensional datasets, which is our case here. \n",
    "- The disadvantage of Naive Bayes Models: very few tunable parameters. "
   ]
  },
  {
   "cell_type": "markdown",
   "metadata": {},
   "source": [
    "#### CountVectorizer + Multinomial Naive Bayes"
   ]
  },
  {
   "cell_type": "markdown",
   "metadata": {},
   "source": [
    "\"Multinomial Naive Bayes is appropriate when our features are variables that take on only positive integer counts\"    (reference: lab week 5).  \n",
    "Since I will use CountVectorizer to transform the feature into a spare Matrix consists of positive int, Multinomial Naive Bayes is the appropriate model to use combining with CountVectorizer."
   ]
  },
  {
   "cell_type": "code",
   "execution_count": 51,
   "metadata": {},
   "outputs": [],
   "source": [
    "# Pipeline: CountVectorizer() + Multinomial Naive Bayes\n",
    "pipe_mnb = Pipeline(steps=[\n",
    "    ('cvec', CountVectorizer(stop_words=custom_stopwords)), \n",
    "    ('mnb', MultinomialNB())\n",
    "])\n",
    "\n",
    "pipe_params_mnb ={\n",
    "    'cvec__max_features': [500, 700, 900],\n",
    "    'cvec__ngram_range': [(1, 1), (1, 2)]\n",
    "     \n",
    "}\n",
    "\n",
    "gs_mnb = GridSearchCV(pipe_mnb, \n",
    "                 pipe_params_mnb, \n",
    "                 cv=5,\n",
    "                 scoring='roc_auc')"
   ]
  },
  {
   "cell_type": "code",
   "execution_count": 52,
   "metadata": {},
   "outputs": [
    {
     "name": "stdout",
     "output_type": "stream",
     "text": [
      "23.121840000152588\n"
     ]
    }
   ],
   "source": [
    "# Fit the model\n",
    "# Start a timer\n",
    "t0 = time.time()\n",
    "\n",
    "gs_mnb.fit(X_train, y_train)\n",
    "\n",
    "print(time.time() - t0);"
   ]
  },
  {
   "cell_type": "code",
   "execution_count": 53,
   "metadata": {},
   "outputs": [
    {
     "data": {
      "text/plain": [
       "{'cvec__max_features': 900, 'cvec__ngram_range': (1, 1)}"
      ]
     },
     "execution_count": 53,
     "metadata": {},
     "output_type": "execute_result"
    }
   ],
   "source": [
    "# Check the optimal params\n",
    "gs_mnb.best_params_"
   ]
  },
  {
   "cell_type": "code",
   "execution_count": 54,
   "metadata": {},
   "outputs": [
    {
     "data": {
      "text/plain": [
       "0.98614015625"
      ]
     },
     "execution_count": 54,
     "metadata": {},
     "output_type": "execute_result"
    }
   ],
   "source": [
    "# Train score\n",
    "gs_mnb.score(X_train, y_train)"
   ]
  },
  {
   "cell_type": "code",
   "execution_count": 55,
   "metadata": {},
   "outputs": [
    {
     "data": {
      "text/plain": [
       "0.9843546999999999"
      ]
     },
     "execution_count": 55,
     "metadata": {},
     "output_type": "execute_result"
    }
   ],
   "source": [
    "# Cross val score on the whole dataset \n",
    "cross_val_score(gs_mnb.best_estimator_, X, y, scoring='roc_auc', cv=5).mean()"
   ]
  },
  {
   "cell_type": "code",
   "execution_count": 56,
   "metadata": {},
   "outputs": [
    {
     "data": {
      "text/plain": [
       "0.983268"
      ]
     },
     "execution_count": 56,
     "metadata": {},
     "output_type": "execute_result"
    }
   ],
   "source": [
    "# Test score\n",
    "gs_mnb.score(X_test, y_test)"
   ]
  },
  {
   "cell_type": "markdown",
   "metadata": {},
   "source": [
    "The model performed realy well, and shows no apparent signs of overfitting (i.e. train score is similar to test score). The corss val score is similar to the test score, which means our test score is reliable."
   ]
  },
  {
   "cell_type": "markdown",
   "metadata": {},
   "source": [
    "#### TfidfVectorizer + Gaussian Naive Bayes "
   ]
  },
  {
   "cell_type": "markdown",
   "metadata": {},
   "source": [
    "- Since GaussianNB requires a dense matrix, and TfidfVectorizer( ) only returns sparse matrix, we need to define a custom transfomer, so we can slide it into our pipe.\n",
    "- Referecne: https://stackoverflow.com/a/28384887/12739456"
   ]
  },
  {
   "cell_type": "code",
   "execution_count": 57,
   "metadata": {},
   "outputs": [],
   "source": [
    "# Created a customized transformer to turn sparse matrix into dense matrix\n",
    "from sklearn.base import TransformerMixin\n",
    "class DenseTransformer(TransformerMixin):\n",
    "    def fit(self, X, y=None, **fit_params):\n",
    "        return self\n",
    "\n",
    "    def transform(self, X, y=None, **fit_params):\n",
    "        return X.todense()"
   ]
  },
  {
   "cell_type": "code",
   "execution_count": 58,
   "metadata": {},
   "outputs": [],
   "source": [
    "# Pipe line: TfidfVectorizer() + Gaussian Naive Bayes\n",
    "pipe_gnb = Pipeline(steps=[\n",
    "    ('tfidf', TfidfVectorizer(stop_words=custom_stopwords)),\n",
    "    ('to_dense', DenseTransformer()),\n",
    "    ('gnb', GaussianNB())\n",
    "])\n",
    "\n",
    "pipe_params_gnb ={\n",
    "    'tfidf__max_features': [500, 700, 900],\n",
    "    'tfidf__ngram_range': [(1, 1), (1, 2)]\n",
    "    \n",
    "}\n",
    "\n",
    "gs_gnb = GridSearchCV(pipe_gnb, \n",
    "                 pipe_params_gnb, \n",
    "                 cv=5,\n",
    "                 scoring='roc_auc')"
   ]
  },
  {
   "cell_type": "code",
   "execution_count": 59,
   "metadata": {},
   "outputs": [
    {
     "name": "stdout",
     "output_type": "stream",
     "text": [
      "26.80634379386902\n"
     ]
    }
   ],
   "source": [
    "# Fit the model\n",
    "# Start a timer\n",
    "t0 = time.time()\n",
    "\n",
    "gs_gnb.fit(X_train, y_train)\n",
    "\n",
    "print(time.time() - t0);"
   ]
  },
  {
   "cell_type": "code",
   "execution_count": 60,
   "metadata": {
    "scrolled": true
   },
   "outputs": [
    {
     "data": {
      "text/plain": [
       "{'tfidf__max_features': 900, 'tfidf__ngram_range': (1, 1)}"
      ]
     },
     "execution_count": 60,
     "metadata": {},
     "output_type": "execute_result"
    }
   ],
   "source": [
    "# Check the optimal params\n",
    "gs_gnb.best_params_"
   ]
  },
  {
   "cell_type": "code",
   "execution_count": 61,
   "metadata": {},
   "outputs": [
    {
     "data": {
      "text/plain": [
       "0.9678557812499999"
      ]
     },
     "execution_count": 61,
     "metadata": {},
     "output_type": "execute_result"
    }
   ],
   "source": [
    "# Train score\n",
    "gs_gnb.score(X_train, y_train)"
   ]
  },
  {
   "cell_type": "code",
   "execution_count": 62,
   "metadata": {},
   "outputs": [
    {
     "data": {
      "text/plain": [
       "0.9500748999999999"
      ]
     },
     "execution_count": 62,
     "metadata": {},
     "output_type": "execute_result"
    }
   ],
   "source": [
    "# Cross val score on the whole dataset \n",
    "cross_val_score(gs_gnb.best_estimator_, X, y, scoring='roc_auc', cv=5).mean()"
   ]
  },
  {
   "cell_type": "code",
   "execution_count": 63,
   "metadata": {},
   "outputs": [
    {
     "data": {
      "text/plain": [
       "0.9538389999999999"
      ]
     },
     "execution_count": 63,
     "metadata": {},
     "output_type": "execute_result"
    }
   ],
   "source": [
    "# Test score\n",
    "gs_gnb.score(X_test, y_test)"
   ]
  },
  {
   "cell_type": "markdown",
   "metadata": {},
   "source": [
    "The model performed quite well, but shows slight signs of overfitting (i.e. train score is slightly higher than test score). The corss val score is similar to the test score, which means our test score is reliable."
   ]
  },
  {
   "cell_type": "markdown",
   "metadata": {},
   "source": [
    "### Logistic Regression Models"
   ]
  },
  {
   "cell_type": "markdown",
   "metadata": {},
   "source": [
    "Two versions of logisitc regression model pipelines will be developed: one will combine with CountVectorizer, the other TfidfVectorizer. \n",
    "CountVectorizer counts the number of occurrences of word, whereas TfidfVectorizer penalized words that occur frequently across the documents and the corpus.\n",
    "I'd like to know which transformer performs better. "
   ]
  },
  {
   "cell_type": "markdown",
   "metadata": {},
   "source": [
    "#### CountVectorizer + LogisticRegression"
   ]
  },
  {
   "cell_type": "code",
   "execution_count": 64,
   "metadata": {},
   "outputs": [],
   "source": [
    "# Pipe line: CountVectorizer() + LogisticRegression\n",
    "pipe_cvec = Pipeline(steps=[\n",
    "    ('cvec', CountVectorizer(stop_words=custom_stopwords)), \n",
    "    ('lr', LogisticRegression(solver='liblinear', penalty='l1'))\n",
    "])\n",
    "\n",
    "pipe_params_cvec ={\n",
    "    'cvec__max_features': [500, 700, 900],\n",
    "    'cvec__ngram_range': [(1, 1), (1, 2)],\n",
    "    'lr__C': [0.0001, 1]\n",
    "    \n",
    "}\n",
    "\n",
    "gs_cvec = GridSearchCV(pipe_cvec, \n",
    "                 pipe_params_cvec, \n",
    "                 cv=5,\n",
    "                 scoring='roc_auc')\n"
   ]
  },
  {
   "cell_type": "code",
   "execution_count": 65,
   "metadata": {},
   "outputs": [
    {
     "name": "stdout",
     "output_type": "stream",
     "text": [
      "46.15935683250427\n"
     ]
    }
   ],
   "source": [
    "# Fit the model\n",
    "# Start a timer\n",
    "t0 = time.time()\n",
    "\n",
    "gs_cvec.fit(X_train, y_train)\n",
    "\n",
    "print(time.time() - t0);"
   ]
  },
  {
   "cell_type": "code",
   "execution_count": 66,
   "metadata": {},
   "outputs": [
    {
     "data": {
      "text/plain": [
       "{'cvec__max_features': 900, 'cvec__ngram_range': (1, 1), 'lr__C': 1}"
      ]
     },
     "execution_count": 66,
     "metadata": {},
     "output_type": "execute_result"
    }
   ],
   "source": [
    "# Check the optimal params\n",
    "gs_cvec.best_params_"
   ]
  },
  {
   "cell_type": "code",
   "execution_count": 67,
   "metadata": {},
   "outputs": [
    {
     "data": {
      "text/plain": [
       "0.9939796875"
      ]
     },
     "execution_count": 67,
     "metadata": {},
     "output_type": "execute_result"
    }
   ],
   "source": [
    "# Train score\n",
    "gs_cvec.score(X_train, y_train)"
   ]
  },
  {
   "cell_type": "code",
   "execution_count": 68,
   "metadata": {
    "scrolled": true
   },
   "outputs": [
    {
     "name": "stderr",
     "output_type": "stream",
     "text": [
      "/opt/anaconda3/lib/python3.7/site-packages/sklearn/svm/base.py:929: ConvergenceWarning: Liblinear failed to converge, increase the number of iterations.\n",
      "  \"the number of iterations.\", ConvergenceWarning)\n",
      "/opt/anaconda3/lib/python3.7/site-packages/sklearn/svm/base.py:929: ConvergenceWarning: Liblinear failed to converge, increase the number of iterations.\n",
      "  \"the number of iterations.\", ConvergenceWarning)\n",
      "/opt/anaconda3/lib/python3.7/site-packages/sklearn/svm/base.py:929: ConvergenceWarning: Liblinear failed to converge, increase the number of iterations.\n",
      "  \"the number of iterations.\", ConvergenceWarning)\n",
      "/opt/anaconda3/lib/python3.7/site-packages/sklearn/svm/base.py:929: ConvergenceWarning: Liblinear failed to converge, increase the number of iterations.\n",
      "  \"the number of iterations.\", ConvergenceWarning)\n"
     ]
    },
    {
     "data": {
      "text/plain": [
       "0.9818223000000001"
      ]
     },
     "execution_count": 68,
     "metadata": {},
     "output_type": "execute_result"
    }
   ],
   "source": [
    "# Cross val score on the whole dataset \n",
    "cross_val_score(gs_cvec.best_estimator_, X, y, scoring='roc_auc', cv=5).mean()"
   ]
  },
  {
   "cell_type": "code",
   "execution_count": 69,
   "metadata": {},
   "outputs": [
    {
     "data": {
      "text/plain": [
       "0.9812274999999999"
      ]
     },
     "execution_count": 69,
     "metadata": {},
     "output_type": "execute_result"
    }
   ],
   "source": [
    "# Test score\n",
    "gs_cvec.score(X_test, y_test)"
   ]
  },
  {
   "cell_type": "markdown",
   "metadata": {},
   "source": [
    "On the train data, the model performs really well, but it's slightly overfit. When using the CountVectorizer, the hyperparameter ngram_range: (1, 2) gives the best result. "
   ]
  },
  {
   "cell_type": "markdown",
   "metadata": {},
   "source": [
    "#### TfidfVectorizer+ LogisticRegression"
   ]
  },
  {
   "cell_type": "code",
   "execution_count": 70,
   "metadata": {},
   "outputs": [],
   "source": [
    "# Pipe line: TfidfVectorizer() + LogisticRegression\n",
    "pipe_tfidf = Pipeline(steps=[\n",
    "    ('tfidf', TfidfVectorizer(stop_words=custom_stopwords)), \n",
    "    ('lr', LogisticRegression(solver='liblinear', penalty='l1'))\n",
    "])\n",
    "\n",
    "pipe_params_tfidf ={\n",
    "    'tfidf__max_features': [500, 700, 900],\n",
    "    'tfidf__ngram_range': [(1, 1), (1, 2)],\n",
    "    'lr__C': [0.0001, 1]\n",
    "    \n",
    "}\n",
    "\n",
    "gs_tfidf = GridSearchCV(pipe_tfidf, \n",
    "                 pipe_params_tfidf, \n",
    "                 cv=5,\n",
    "                 scoring='roc_auc')"
   ]
  },
  {
   "cell_type": "code",
   "execution_count": 71,
   "metadata": {},
   "outputs": [
    {
     "name": "stdout",
     "output_type": "stream",
     "text": [
      "46.278427839279175\n"
     ]
    }
   ],
   "source": [
    "# Fit the model\n",
    "# Start a timer\n",
    "t0 = time.time()\n",
    "\n",
    "gs_tfidf.fit(X_train, y_train)\n",
    "\n",
    "print(time.time() - t0);"
   ]
  },
  {
   "cell_type": "code",
   "execution_count": 72,
   "metadata": {},
   "outputs": [
    {
     "data": {
      "text/plain": [
       "{'lr__C': 1, 'tfidf__max_features': 900, 'tfidf__ngram_range': (1, 1)}"
      ]
     },
     "execution_count": 72,
     "metadata": {},
     "output_type": "execute_result"
    }
   ],
   "source": [
    "# Check the optimal params\n",
    "gs_tfidf.best_params_"
   ]
  },
  {
   "cell_type": "code",
   "execution_count": 73,
   "metadata": {
    "scrolled": true
   },
   "outputs": [
    {
     "data": {
      "text/plain": [
       "0.98904915625"
      ]
     },
     "execution_count": 73,
     "metadata": {},
     "output_type": "execute_result"
    }
   ],
   "source": [
    "# Train score\n",
    "gs_tfidf.score(X_train, y_train)"
   ]
  },
  {
   "cell_type": "code",
   "execution_count": 74,
   "metadata": {
    "scrolled": true
   },
   "outputs": [
    {
     "data": {
      "text/plain": [
       "0.9832949"
      ]
     },
     "execution_count": 74,
     "metadata": {},
     "output_type": "execute_result"
    }
   ],
   "source": [
    "# Cross val score on the whole dataset\n",
    "cross_val_score(gs_tfidf.best_estimator_, X, y, scoring='roc_auc', cv=5).mean()"
   ]
  },
  {
   "cell_type": "code",
   "execution_count": 75,
   "metadata": {},
   "outputs": [
    {
     "data": {
      "text/plain": [
       "0.9812045"
      ]
     },
     "execution_count": 75,
     "metadata": {},
     "output_type": "execute_result"
    }
   ],
   "source": [
    "# Test score\n",
    "gs_tfidf.score(X_test, y_test)"
   ]
  },
  {
   "cell_type": "markdown",
   "metadata": {},
   "source": [
    "The model performs really well on both train and test data, and only show slight sign of overfit. When using the TfidfVectorizer, the hyperparameter ngram_range: (1, 1) gives the best result. "
   ]
  },
  {
   "cell_type": "markdown",
   "metadata": {},
   "source": [
    "### KNN model"
   ]
  },
  {
   "cell_type": "markdown",
   "metadata": {},
   "source": [
    "#### CountVectorizer + KNN"
   ]
  },
  {
   "cell_type": "code",
   "execution_count": 76,
   "metadata": {},
   "outputs": [],
   "source": [
    "# Pipe line: CountVectorizer() + LogisticRegression\n",
    "pipe_cvec = Pipeline(steps=[\n",
    "    ('cvec', CountVectorizer(stop_words=custom_stopwords)), \n",
    "    ('knn', KNeighborsClassifier())\n",
    "])\n",
    "\n",
    "pipe_params_cvec ={\n",
    "    'cvec__max_features': [500, 700, 900],\n",
    "    'cvec__ngram_range': [(1, 1), (1, 2)],\n",
    "    'knn__n_neighbors' : [50, 70]\n",
    "    \n",
    "}\n",
    "\n",
    "gs_knn = GridSearchCV(pipe_cvec, \n",
    "                 pipe_params_cvec, \n",
    "                 cv=5,\n",
    "                 scoring='roc_auc')\n"
   ]
  },
  {
   "cell_type": "code",
   "execution_count": 77,
   "metadata": {},
   "outputs": [
    {
     "name": "stdout",
     "output_type": "stream",
     "text": [
      "63.08849000930786\n"
     ]
    }
   ],
   "source": [
    "# Fit the model\n",
    "# Start a timer\n",
    "t0 = time.time()\n",
    "\n",
    "gs_knn.fit(X_train, y_train)\n",
    "\n",
    "print(time.time() - t0);"
   ]
  },
  {
   "cell_type": "code",
   "execution_count": 78,
   "metadata": {
    "scrolled": false
   },
   "outputs": [
    {
     "data": {
      "text/plain": [
       "{'cvec__max_features': 500,\n",
       " 'cvec__ngram_range': (1, 2),\n",
       " 'knn__n_neighbors': 70}"
      ]
     },
     "execution_count": 78,
     "metadata": {},
     "output_type": "execute_result"
    }
   ],
   "source": [
    "# Check the optimal params\n",
    "gs_knn.best_params_"
   ]
  },
  {
   "cell_type": "code",
   "execution_count": 79,
   "metadata": {
    "scrolled": true
   },
   "outputs": [
    {
     "data": {
      "text/plain": [
       "0.92166821875"
      ]
     },
     "execution_count": 79,
     "metadata": {},
     "output_type": "execute_result"
    }
   ],
   "source": [
    "# Train score\n",
    "gs_knn.score(X_train, y_train)"
   ]
  },
  {
   "cell_type": "code",
   "execution_count": 80,
   "metadata": {
    "scrolled": true
   },
   "outputs": [
    {
     "data": {
      "text/plain": [
       "0.9107706999999999"
      ]
     },
     "execution_count": 80,
     "metadata": {},
     "output_type": "execute_result"
    }
   ],
   "source": [
    "# Cross val score on the whole dataset\n",
    "cross_val_score(gs_knn.best_estimator_, X, y, scoring='roc_auc', cv=5).mean()"
   ]
  },
  {
   "cell_type": "code",
   "execution_count": 81,
   "metadata": {},
   "outputs": [
    {
     "data": {
      "text/plain": [
       "0.898642"
      ]
     },
     "execution_count": 81,
     "metadata": {},
     "output_type": "execute_result"
    }
   ],
   "source": [
    "# Test score\n",
    "gs_knn.score(X_test, y_test)"
   ]
  },
  {
   "cell_type": "markdown",
   "metadata": {},
   "source": [
    "The model performs okay on both train and test data, and show some signs of overfit. "
   ]
  },
  {
   "cell_type": "markdown",
   "metadata": {},
   "source": [
    "### SVM"
   ]
  },
  {
   "cell_type": "markdown",
   "metadata": {},
   "source": [
    "My last model is the SVM model. Since this is a 'Black Box' model, the result won't be esay to interpret. I will use SVM to check the model's predicting power. "
   ]
  },
  {
   "cell_type": "code",
   "execution_count": 82,
   "metadata": {},
   "outputs": [],
   "source": [
    "pipe_svc = Pipeline(steps=[\n",
    "    ('cvec', CountVectorizer(stop_words=custom_stopwords, max_features=900, ngram_range=(1, 1))), \n",
    "    ('svc', SVC(kernel='rbf', class_weight='balanced', probability=True))\n",
    "])\n",
    "\n",
    "pipe_params_svc ={\n",
    "    #'cvec__max_features': [700, 900],\n",
    "    #'cvec__ngram_range': [(1, 1), (1, 2)],\n",
    "    'svc__C': [1, 10, 50],\n",
    "    'svc__gamma': [0.0005, 0.001, 0.005],\n",
    "}\n",
    "gs_svc = GridSearchCV(pipe_svc, \n",
    "                 pipe_params_svc, \n",
    "                 cv=5,\n",
    "                 scoring='roc_auc')"
   ]
  },
  {
   "cell_type": "code",
   "execution_count": 83,
   "metadata": {},
   "outputs": [
    {
     "name": "stdout",
     "output_type": "stream",
     "text": [
      "922.4706389904022\n"
     ]
    }
   ],
   "source": [
    "# Fit the model\n",
    "# Start a timer\n",
    "t0 = time.time()\n",
    "\n",
    "gs_svc.fit(X_train, y_train)\n",
    "\n",
    "print(time.time() - t0);"
   ]
  },
  {
   "cell_type": "code",
   "execution_count": 84,
   "metadata": {
    "scrolled": true
   },
   "outputs": [
    {
     "data": {
      "text/plain": [
       "{'svc__C': 50, 'svc__gamma': 0.001}"
      ]
     },
     "execution_count": 84,
     "metadata": {},
     "output_type": "execute_result"
    }
   ],
   "source": [
    "# Check the optimal params\n",
    "gs_svc.best_params_"
   ]
  },
  {
   "cell_type": "code",
   "execution_count": 85,
   "metadata": {
    "scrolled": true
   },
   "outputs": [
    {
     "data": {
      "text/plain": [
       "0.99108534375"
      ]
     },
     "execution_count": 85,
     "metadata": {},
     "output_type": "execute_result"
    }
   ],
   "source": [
    "# Train score\n",
    "gs_svc.score(X_train, y_train)"
   ]
  },
  {
   "cell_type": "code",
   "execution_count": 86,
   "metadata": {
    "scrolled": true
   },
   "outputs": [
    {
     "data": {
      "text/plain": [
       "0.9779403"
      ]
     },
     "execution_count": 86,
     "metadata": {},
     "output_type": "execute_result"
    }
   ],
   "source": [
    "# Cross val score on the whole dataset\n",
    "cross_val_score(gs_svc.best_estimator_, X, y, scoring='roc_auc', cv=5).mean()"
   ]
  },
  {
   "cell_type": "code",
   "execution_count": 87,
   "metadata": {},
   "outputs": [
    {
     "data": {
      "text/plain": [
       "0.976683"
      ]
     },
     "execution_count": 87,
     "metadata": {},
     "output_type": "execute_result"
    }
   ],
   "source": [
    "# Test score\n",
    "gs_svc.score(X_test, y_test)"
   ]
  },
  {
   "cell_type": "markdown",
   "metadata": {},
   "source": [
    "The model perfoms really well on the train data, but it shows signs of overfitting. It tooke quite some some time (almost 7 minutes!) to run."
   ]
  },
  {
   "cell_type": "markdown",
   "metadata": {},
   "source": [
    "## Model Selection"
   ]
  },
  {
   "cell_type": "markdown",
   "metadata": {},
   "source": [
    "### Define functions that will generate and display AUC ROC scores for all the models"
   ]
  },
  {
   "cell_type": "code",
   "execution_count": 88,
   "metadata": {},
   "outputs": [],
   "source": [
    "# Define a funciton that takes a list of models (could be a list of one model), \n",
    "# Returns the AUC ROC score\n",
    "def evaluation_metrics(list_of_models, X, y):\n",
    "    table = [['Model Name', 'AUC ROC']]\n",
    "    for name, model in list_of_models:\n",
    "        y_proba = model.predict_proba(X)\n",
    "        \n",
    "        false_positive_rate, true_positive_rate, thresholds = roc_curve(y, y_proba[:,1])\n",
    "        auc_roc = round(auc(false_positive_rate, true_positive_rate), 5)\n",
    "        \n",
    "        table.append([name, auc_roc])\n",
    "    return table"
   ]
  },
  {
   "cell_type": "code",
   "execution_count": 89,
   "metadata": {},
   "outputs": [],
   "source": [
    "# Define a funciton that will pretty-print tabular data in Python\n",
    "def display_evaluation_metrics(table):\n",
    "    return display(HTML(tabulate.tabulate(table, tablefmt='html')))"
   ]
  },
  {
   "cell_type": "markdown",
   "metadata": {},
   "source": [
    "Among all models, the Multinomial Naive Bayes model performs the best, with an AUC ROC of 0.9833. This will be the model of our choice for prediction. The second best performing model is the Logistic Regression combined with CountVectorizer, with an ACU ROC of 0.98123. Since logistic regression models are more interpretable, I will use it to explain which features are the strongest predictors."
   ]
  },
  {
   "cell_type": "code",
   "execution_count": 90,
   "metadata": {},
   "outputs": [],
   "source": [
    "table_test = evaluation_metrics([('Multinomial Naive Bayes', gs_mnb), \n",
    "                                 ('Gaussian Naive Bayes', gs_gnb),\n",
    "                                 ('Logistic Regression + CountVec', gs_cvec),\n",
    "                                 ('Logistic Regression + TFIDF', gs_tfidf),\n",
    "                                 ('KNN', gs_knn),\n",
    "                                 ('SVM', gs_svc)\n",
    "                                ],\n",
    "                                X_test, y_test)"
   ]
  },
  {
   "cell_type": "code",
   "execution_count": 91,
   "metadata": {
    "scrolled": true
   },
   "outputs": [
    {
     "data": {
      "text/html": [
       "<table>\n",
       "<tbody>\n",
       "<tr><td>Model Name                    </td><td>AUC ROC</td></tr>\n",
       "<tr><td>Multinomial Naive Bayes       </td><td>0.98327</td></tr>\n",
       "<tr><td>Gaussian Naive Bayes          </td><td>0.95384</td></tr>\n",
       "<tr><td>Logistic Regression + CountVec</td><td>0.98123</td></tr>\n",
       "<tr><td>Logistic Regression + TFIDF   </td><td>0.9812 </td></tr>\n",
       "<tr><td>KNN                           </td><td>0.89864</td></tr>\n",
       "<tr><td>SVM                           </td><td>0.97668</td></tr>\n",
       "</tbody>\n",
       "</table>"
      ],
      "text/plain": [
       "<IPython.core.display.HTML object>"
      ]
     },
     "metadata": {},
     "output_type": "display_data"
    }
   ],
   "source": [
    "display_evaluation_metrics(table_test)"
   ]
  },
  {
   "cell_type": "markdown",
   "metadata": {},
   "source": [
    "## Model Evaluation"
   ]
  },
  {
   "cell_type": "markdown",
   "metadata": {},
   "source": [
    "The model evaluation will contain two parts: \n",
    "1. The Multinomial Naive Bayes is our best model for prediciton. I will evaluate the model's performs based on it's predicting power.\n",
    "2. The Logistic Regression model is our best model for interpretation. I will interpret the Coefficients based on the result of the logistic regression. "
   ]
  },
  {
   "cell_type": "markdown",
   "metadata": {},
   "source": [
    "###  Multinomial Naive Bayes "
   ]
  },
  {
   "cell_type": "markdown",
   "metadata": {},
   "source": [
    "#### Confusion Matrix"
   ]
  },
  {
   "cell_type": "markdown",
   "metadata": {},
   "source": [
    "The Confusion Matrix gives us a summary of correct and incorrect predictions. It gives us 4 categories: true negative, false positive, false negative, and true negative. This will give us the information to calculate sensitivity (true positive rate), specificity (true negative rate), and false positive rate (1 - specificity). These components will be useful for understanding the AUC ROC, which is our metric of evaluation, since the ROC curve is a collection of specificity vs. sensitivity. "
   ]
  },
  {
   "cell_type": "code",
   "execution_count": 92,
   "metadata": {},
   "outputs": [],
   "source": [
    "y_pred = gs_mnb.predict(X_test)"
   ]
  },
  {
   "cell_type": "code",
   "execution_count": 93,
   "metadata": {},
   "outputs": [],
   "source": [
    "TN, FP, FN, TP = confusion_matrix(y_test, y_pred).ravel()"
   ]
  },
  {
   "cell_type": "code",
   "execution_count": 94,
   "metadata": {},
   "outputs": [],
   "source": [
    "cm = confusion_matrix(y_test, y_pred)"
   ]
  },
  {
   "cell_type": "code",
   "execution_count": 95,
   "metadata": {
    "scrolled": false
   },
   "outputs": [
    {
     "data": {
      "image/png": "[encoded data removed]",
      "text/plain": [
       "<Figure size 576x576 with 1 Axes>"
      ]
     },
     "metadata": {
      "needs_background": "light"
     },
     "output_type": "display_data"
    }
   ],
   "source": [
    "plt.figure(figsize = (8,8))\n",
    "ax = plt.subplot()\n",
    "sns.heatmap(cm, \n",
    "            annot=True, \n",
    "            ax = ax, \n",
    "            fmt='g', \n",
    "            cbar=False,\n",
    "            cmap=\"Blues\"); #annot=True to annotate cells\n",
    "\n",
    "# labels, title and ticks\n",
    "ax.set_title('Confusion Matrix', size=16)\n",
    "ax.set_xlabel('Predicted', size=14)\n",
    "ax.set_ylabel('True', size=14)\n",
    "ax.xaxis.set_ticklabels(['Negative', 'Positive'])\n",
    "ax.yaxis.set_ticklabels(['Negative', 'Positive']);"
   ]
  },
  {
   "cell_type": "markdown",
   "metadata": {},
   "source": [
    "For the Multinomial Naive Bayes model, the 4 classes of confusion matrix are as follows: \n",
    "- True Positive: 936\n",
    "- False Positive (Type 1): 96\n",
    "- True Negative: 909\n",
    "- False Negative (Type 2): 64  \n",
    "\n",
    "A perfect classifier would have only TP and TN, so its confusion matirx would have nonzero values only on the top-left to bottom right diagonal. As we can see here, the diagonal from top left to bottom right are our correct predictions (TN and TP) are in darker blue, which is very good, since we want the marjority of our predictions to be in these two classes.  "
   ]
  },
  {
   "cell_type": "markdown",
   "metadata": {},
   "source": [
    "#### ROC Curve and AUC ROC"
   ]
  },
  {
   "cell_type": "code",
   "execution_count": 96,
   "metadata": {},
   "outputs": [],
   "source": [
    "y_pred_proba = gs_mnb.predict_proba(X_test)"
   ]
  },
  {
   "cell_type": "code",
   "execution_count": 97,
   "metadata": {
    "scrolled": false
   },
   "outputs": [
    {
     "data": {
      "text/plain": [
       "<matplotlib.legend.Legend at 0x1b1ddac110>"
      ]
     },
     "execution_count": 97,
     "metadata": {},
     "output_type": "execute_result"
    },
    {
     "data": {
      "image/png": "[encoded data removed]",
      "text/plain": [
       "<Figure size 720x576 with 1 Axes>"
      ]
     },
     "metadata": {
      "needs_background": "light"
     },
     "output_type": "display_data"
    }
   ],
   "source": [
    "# Reference: https://scikit-learn.org/stable/modules/generated/sklearn.metrics.roc_curve.html#sklearn.metrics.roc_curve\n",
    "fpr, tpr, _= roc_curve(y_test, y_pred_proba[:,1])\n",
    "roc_auc = auc(fpr, tpr)\n",
    "\n",
    "\n",
    "# Plot of a ROC curve for a specific class\n",
    "plt.figure(figsize = (10,8))\n",
    "plt.plot(fpr, tpr, label='ROC curve (area = %0.4f)' % roc_auc)\n",
    "plt.plot([0, 1], [0, 1], 'k--', label='baseline')\n",
    "plt.xlim([-0.02, 1.0])\n",
    "plt.ylim([0.0, 1.02])\n",
    "plt.xlabel('False Positive Rate')\n",
    "plt.ylabel('True Positive Rate')\n",
    "plt.title('Receiver Operating Characteristic Curve', fontsize=15)\n",
    "plt.legend(loc=\"lower right\")\n"
   ]
  },
  {
   "cell_type": "markdown",
   "metadata": {},
   "source": [
    "The ROC curve helps us to visualize our tradeoff between sensitivity and specificity and understand how well-separated our classes are. The ROC curve is generated by varying our threshold from 0 to 1. The best threshold is the point on the curve where it's closest to the top left corner. \n",
    "\n",
    "In addiction, the AUC ROC measures how well the classifier seperates the two classes, i.e. r/startrek vs. r/StarWars. AUC ROC score ranges from 0 to 1. The closer it is to 1, the better the classifier seperates the two classes. As we can see from the above plot, the Multinomial Naive Bayes' AUC ROC is very close to 1, which proves that the test data are well sperated by our classifier. "
   ]
  },
  {
   "cell_type": "markdown",
   "metadata": {},
   "source": [
    "### Logistic Regression"
   ]
  },
  {
   "cell_type": "markdown",
   "metadata": {},
   "source": [
    "#### Interpret Coefficients"
   ]
  },
  {
   "cell_type": "code",
   "execution_count": 98,
   "metadata": {},
   "outputs": [],
   "source": [
    "# Create a dataframe that conbines feature name and coefficients\n",
    "top_features = pd.DataFrame(list(zip(gs_tfidf.best_estimator_.steps[0][1].get_feature_names(), \n",
    "                      gs_tfidf.best_estimator_.steps[1][1].coef_[0])), columns=['word', 'coefficient'])"
   ]
  },
  {
   "cell_type": "code",
   "execution_count": 99,
   "metadata": {
    "scrolled": false
   },
   "outputs": [],
   "source": [
    "# Find the top 10 strongest predictors for the positive class, i.e. r/startrek\n",
    "df_1 = top_features.sort_values(by=['coefficient'], ascending=False).head(10)"
   ]
  },
  {
   "cell_type": "code",
   "execution_count": 100,
   "metadata": {},
   "outputs": [],
   "source": [
    "# Find the top 10 strongest predictors for the negative class, i.e. r/StarWars\n",
    "df_2 = top_features.sort_values(by=['coefficient'], ascending=False).tail(10)"
   ]
  },
  {
   "cell_type": "code",
   "execution_count": 101,
   "metadata": {},
   "outputs": [],
   "source": [
    "df_1_and_2 = pd.concat([df_1, df_2], ignore_index=True)"
   ]
  },
  {
   "cell_type": "code",
   "execution_count": 102,
   "metadata": {},
   "outputs": [
    {
     "data": {
      "image/png": "[encoded data removed]",
      "text/plain": [
       "<Figure size 576x576 with 1 Axes>"
      ]
     },
     "metadata": {
      "needs_background": "light"
     },
     "output_type": "display_data"
    }
   ],
   "source": [
    "# Thanks to Varun for sharing this code! \n",
    "plt.figure(figsize=(8,8))\n",
    "plt.title('Best Predictors',fontsize=25)\n",
    "sns.set_style(\"darkgrid\")\n",
    "sns.barplot(data=df_1_and_2 ,x='coefficient',y='word',orient='h', palette=\"GnBu_d\")\n",
    "plt.xlabel('coefficient',fontsize=20)\n",
    "plt.ylabel('word',fontsize=20)\n",
    "plt.tick_params(labelsize=15)"
   ]
  },
  {
   "cell_type": "markdown",
   "metadata": {},
   "source": [
    "The top 10 strongest predictors for our positive class words like 'ds9', 'picard', 'tos' (the original series) etc. which are the common lingo for r/startrek; similarly, words like 'jedi', 'solo' are among the top predictors for the negative class r/StarWars. This result is not surprising: the best words to distinguish the two subreddits are the lingo that is particular to that community."
   ]
  },
  {
   "cell_type": "markdown",
   "metadata": {},
   "source": [
    "## Conclusion"
   ]
  },
  {
   "cell_type": "markdown",
   "metadata": {},
   "source": [
    "Among the 4 categories of models, i.e. Naive Bayes, Logistic Regression, KNN, and SVM, the simple Multinomial Naive Bayes outperformed the others by a very small margin. Based on the AUC ROC score, the model is able to provide a very good threshold to separate the two classes, i.e. r/startrek and r/StarWars. In addition, Multinomial Naive Bayes runs faster than the others.  \n",
    "\n",
    "I conclude that this model is sufficient to be used as part of the bot to make suggestions about a subreddit (i.e. r/startrek or r/StarWars) to crosspost to based on the title and contents of the posts."
   ]
  },
  {
   "cell_type": "markdown",
   "metadata": {},
   "source": [
    "## Limitations and Future Steps"
   ]
  },
  {
   "cell_type": "markdown",
   "metadata": {},
   "source": [
    "**Limitations**\n",
    "\n",
    "during the data collection process, important information was left out: Since we only collect posts with text, r/startrek have more of posts with text than r/StarWars. Our function was able to collect 5000 posts for r/startrek for the timespan of 420 days; in contrast, in order to collect the same amount of posts, r/StarWars needed a timespan of 780 days. This information could be an important predictor that we fail to consider at this time. "
   ]
  },
  {
   "cell_type": "markdown",
   "metadata": {},
   "source": [
    "The data we use to train the model do not include the comments. As we know, reddit comments are the goldmine where we can find a lot of valuable information. To further improve our model, we should consider including comments in our dataset. "
   ]
  },
  {
   "cell_type": "markdown",
   "metadata": {},
   "source": [
    "**Future Steps**:  \n",
    "As my subreddit r/scifi_universes grows, I want to introduce more diversity of scifi universes, and to include people who are interested in other scifi universes such as Battlestar Galactica, or even the DC and Marvel universes. Therefore, I will need to expand my y classes, and go beyond binary classes. I will explore classification models which are more suitable for multi classes. "
   ]
  }
 ],
 "metadata": {
  "kernelspec": {
   "display_name": "Python 3",
   "language": "python",
   "name": "python3"
  },
  "language_info": {
   "codemirror_mode": {
    "name": "ipython",
    "version": 3
   },
   "file_extension": ".py",
   "mimetype": "text/x-python",
   "name": "python",
   "nbconvert_exporter": "python",
   "pygments_lexer": "ipython3",
   "version": "3.7.4"
  },
  "toc": {
   "base_numbering": 1,
   "nav_menu": {},
   "number_sections": true,
   "sideBar": true,
   "skip_h1_title": false,
   "title_cell": "Table of Contents",
   "title_sidebar": "Contents",
   "toc_cell": true,
   "toc_position": {
    "height": "calc(100% - 180px)",
    "left": "10px",
    "top": "150px",
    "width": "313.125px"
   },
   "toc_section_display": true,
   "toc_window_display": true
  }
 },
 "nbformat": 4,
 "nbformat_minor": 2
}
