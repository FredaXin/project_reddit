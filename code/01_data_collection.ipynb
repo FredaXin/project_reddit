{
 "cells": [
  {
   "cell_type": "markdown",
   "metadata": {},
   "source": [
    "# Data Collection"
   ]
  },
  {
   "cell_type": "markdown",
   "metadata": {
    "toc": true
   },
   "source": [
    "<h1>Table of Contents<span class=\"tocSkip\"></span></h1>\n",
    "<div class=\"toc\"><ul class=\"toc-item\"><li><span><a href=\"#Data-Collection\" data-toc-modified-id=\"Data-Collection-1\"><span class=\"toc-item-num\">1&nbsp;&nbsp;</span>Data Collection</a></span><ul class=\"toc-item\"><li><span><a href=\"#Import-libraries\" data-toc-modified-id=\"Import-libraries-1.1\"><span class=\"toc-item-num\">1.1&nbsp;&nbsp;</span>Import libraries</a></span></li><li><span><a href=\"#Set-paramters\" data-toc-modified-id=\"Set-paramters-1.2\"><span class=\"toc-item-num\">1.2&nbsp;&nbsp;</span>Set paramters</a></span></li><li><span><a href=\"#Define-function-to-automate-the-data-collecting-process\" data-toc-modified-id=\"Define-function-to-automate-the-data-collecting-process-1.3\"><span class=\"toc-item-num\">1.3&nbsp;&nbsp;</span>Define function to automate the data collecting process</a></span></li><li><span><a href=\"#Collect-posts-from-subreddit:-Star-Trek\" data-toc-modified-id=\"Collect-posts-from-subreddit:-Star-Trek-1.4\"><span class=\"toc-item-num\">1.4&nbsp;&nbsp;</span>Collect posts from subreddit: Star Trek</a></span></li><li><span><a href=\"#Collect-posts-from-subreddit:-Star-Wars\" data-toc-modified-id=\"Collect-posts-from-subreddit:-Star-Wars-1.5\"><span class=\"toc-item-num\">1.5&nbsp;&nbsp;</span>Collect posts from subreddit: Star Wars</a></span></li><li><span><a href=\"#Combine-the-two-dataframes-and-shuffle-dataframe-rows\" data-toc-modified-id=\"Combine-the-two-dataframes-and-shuffle-dataframe-rows-1.6\"><span class=\"toc-item-num\">1.6&nbsp;&nbsp;</span>Combine the two dataframes and shuffle dataframe rows</a></span></li></ul></li></ul></div>"
   ]
  },
  {
   "cell_type": "markdown",
   "metadata": {},
   "source": [
    "## Import libraries"
   ]
  },
  {
   "cell_type": "code",
   "execution_count": 1,
   "metadata": {},
   "outputs": [],
   "source": [
    "# Important libraries\n",
    "import requests\n",
    "import pandas as pd\n",
    "import datetime as dt\n",
    "import time\n",
    "pd.set_option('display.max_columns', None) \n",
    "pd.set_option('display.max_rows', None)  "
   ]
  },
  {
   "cell_type": "markdown",
   "metadata": {},
   "source": [
    "## Set paramters"
   ]
  },
  {
   "cell_type": "code",
   "execution_count": 2,
   "metadata": {},
   "outputs": [],
   "source": [
    "# Set parameters for data collecting\n",
    "\n",
    "# Number of posts to collect for each subreddit\n",
    "NUMBER_OF_POSTS_TO_COLLECT = 5000\n",
    "\n",
    "# Number of results to return\n",
    "MAX_NUM_OF_RESULTS = 500"
   ]
  },
  {
   "cell_type": "markdown",
   "metadata": {},
   "source": [
    "## Define function to automate the data collecting process"
   ]
  },
  {
   "cell_type": "code",
   "execution_count": 3,
   "metadata": {},
   "outputs": [],
   "source": [
    "# Adapted from Mahdi's local lesson\n",
    "def query_pushshift(subreddit_name, day_window, max_requests=10):\n",
    "    \n",
    "    subfields = ['title', 'selftext', 'subreddit', 'created_utc', 'author', 'num_comments', 'score', 'is_self'] \n",
    "    \n",
    "    url = 'https://api.pushshift.io/reddit/search/submission'\n",
    "    \n",
    "    # Define a function that will return a dictionary of parameters.\n",
    "    def params(d_window):\n",
    "        return { 'subreddit' : subreddit_name,\n",
    "                 'size' : MAX_NUM_OF_RESULTS,\n",
    "                 'after' : f'{d_window}d' }\n",
    "    \n",
    "    # Create empty dataframe\n",
    "    df = pd.DataFrame()\n",
    "    \n",
    "    # Create a for loop to collect 500 posts each loop\n",
    "    for i in range(1, max_requests + 1):\n",
    "        response = requests.get(url, params(day_window*i))\n",
    "        print(f'queried from {response.url}')\n",
    "        assert response.status_code == 200\n",
    "        posts = response.json()['data']\n",
    "        \n",
    "        # Configure and filter the dataframes\n",
    "        df_new = pd.DataFrame.from_dict(posts)\n",
    "        df_new = df_new.loc[df_new['is_self'] == True]\n",
    "        df_new = df_new[subfields]\n",
    "        df = df.append(df_new, sort=False)\n",
    "        df.drop_duplicates(inplace = True)\n",
    "        \n",
    "        # Break the loop if desired number of posts has been achived\n",
    "        if df.shape[0] >= NUMBER_OF_POSTS_TO_COLLECT: \n",
    "            break\n",
    "        time.sleep(2)\n",
    "\n",
    "    # Create `timestamp` column\n",
    "    df['timestamp'] = df['created_utc'].map(dt.date.fromtimestamp)\n",
    "    df.reset_index(drop=True, inplace=True)\n",
    "    \n",
    "    # Print Query Completion Time and Date\n",
    "    now = dt.datetime.now()\n",
    "    print ( 'Query Completion Time and Date: ' + now.strftime('%Y-%m-%d %H:%M:%S'))\n",
    "    return df"
   ]
  },
  {
   "cell_type": "markdown",
   "metadata": {},
   "source": [
    "## Collect posts from subreddit: Star Trek"
   ]
  },
  {
   "cell_type": "code",
   "execution_count": 4,
   "metadata": {
    "scrolled": true
   },
   "outputs": [
    {
     "name": "stdout",
     "output_type": "stream",
     "text": [
      "queried from https://api.pushshift.io/reddit/search/submission?subreddit=startrek&size=500&after=30d\n",
      "queried from https://api.pushshift.io/reddit/search/submission?subreddit=startrek&size=500&after=60d\n",
      "queried from https://api.pushshift.io/reddit/search/submission?subreddit=startrek&size=500&after=90d\n",
      "queried from https://api.pushshift.io/reddit/search/submission?subreddit=startrek&size=500&after=120d\n",
      "queried from https://api.pushshift.io/reddit/search/submission?subreddit=startrek&size=500&after=150d\n",
      "queried from https://api.pushshift.io/reddit/search/submission?subreddit=startrek&size=500&after=180d\n",
      "queried from https://api.pushshift.io/reddit/search/submission?subreddit=startrek&size=500&after=210d\n",
      "queried from https://api.pushshift.io/reddit/search/submission?subreddit=startrek&size=500&after=240d\n",
      "queried from https://api.pushshift.io/reddit/search/submission?subreddit=startrek&size=500&after=270d\n",
      "queried from https://api.pushshift.io/reddit/search/submission?subreddit=startrek&size=500&after=300d\n",
      "queried from https://api.pushshift.io/reddit/search/submission?subreddit=startrek&size=500&after=330d\n",
      "queried from https://api.pushshift.io/reddit/search/submission?subreddit=startrek&size=500&after=360d\n",
      "queried from https://api.pushshift.io/reddit/search/submission?subreddit=startrek&size=500&after=390d\n",
      "queried from https://api.pushshift.io/reddit/search/submission?subreddit=startrek&size=500&after=420d\n",
      "Query Completion Time and Date: 2020-01-25 20:15:13\n"
     ]
    }
   ],
   "source": [
    "df_star_trek = query_pushshift('startrek', day_window=30, max_requests=15)"
   ]
  },
  {
   "cell_type": "code",
   "execution_count": 5,
   "metadata": {
    "scrolled": true
   },
   "outputs": [
    {
     "data": {
      "text/plain": [
       "(5074, 9)"
      ]
     },
     "execution_count": 5,
     "metadata": {},
     "output_type": "execute_result"
    }
   ],
   "source": [
    "# Check the shape of the dataframe\n",
    "df_star_trek.shape"
   ]
  },
  {
   "cell_type": "code",
   "execution_count": 6,
   "metadata": {
    "scrolled": true
   },
   "outputs": [
    {
     "data": {
      "text/html": [
       "<div>\n",
       "<style scoped>\n",
       "    .dataframe tbody tr th:only-of-type {\n",
       "        vertical-align: middle;\n",
       "    }\n",
       "\n",
       "    .dataframe tbody tr th {\n",
       "        vertical-align: top;\n",
       "    }\n",
       "\n",
       "    .dataframe thead th {\n",
       "        text-align: right;\n",
       "    }\n",
       "</style>\n",
       "<table border=\"1\" class=\"dataframe\">\n",
       "  <thead>\n",
       "    <tr style=\"text-align: right;\">\n",
       "      <th></th>\n",
       "      <th>title</th>\n",
       "      <th>selftext</th>\n",
       "      <th>subreddit</th>\n",
       "      <th>created_utc</th>\n",
       "      <th>author</th>\n",
       "      <th>num_comments</th>\n",
       "      <th>score</th>\n",
       "      <th>is_self</th>\n",
       "      <th>timestamp</th>\n",
       "    </tr>\n",
       "  </thead>\n",
       "  <tbody>\n",
       "    <tr>\n",
       "      <th>0</th>\n",
       "      <td>One thing I would change in the Star Trek univ...</td>\n",
       "      <td>Transporter and Replicator technology.  \\n\\nIt...</td>\n",
       "      <td>startrek</td>\n",
       "      <td>1577410001</td>\n",
       "      <td>aaraujo1973</td>\n",
       "      <td>35</td>\n",
       "      <td>1</td>\n",
       "      <td>True</td>\n",
       "      <td>2019-12-26</td>\n",
       "    </tr>\n",
       "    <tr>\n",
       "      <th>1</th>\n",
       "      <td>[ENT] What, IRL, was the idea with \"Chef\" neve...</td>\n",
       "      <td>surely the writers couldn't have had that unfo...</td>\n",
       "      <td>startrek</td>\n",
       "      <td>1577410949</td>\n",
       "      <td>strangemotives</td>\n",
       "      <td>43</td>\n",
       "      <td>1</td>\n",
       "      <td>True</td>\n",
       "      <td>2019-12-26</td>\n",
       "    </tr>\n",
       "    <tr>\n",
       "      <th>2</th>\n",
       "      <td>I enjoyed Nemesis</td>\n",
       "      <td>I finally watched it. I know it gets a lot of ...</td>\n",
       "      <td>startrek</td>\n",
       "      <td>1577411556</td>\n",
       "      <td>GreatScott0389</td>\n",
       "      <td>9</td>\n",
       "      <td>1</td>\n",
       "      <td>True</td>\n",
       "      <td>2019-12-26</td>\n",
       "    </tr>\n",
       "    <tr>\n",
       "      <th>3</th>\n",
       "      <td>Data’s day</td>\n",
       "      <td>I am a first time viewer of any version of Sta...</td>\n",
       "      <td>startrek</td>\n",
       "      <td>1577412676</td>\n",
       "      <td>shadowdra126</td>\n",
       "      <td>5</td>\n",
       "      <td>1</td>\n",
       "      <td>True</td>\n",
       "      <td>2019-12-26</td>\n",
       "    </tr>\n",
       "    <tr>\n",
       "      <th>4</th>\n",
       "      <td>Picard Universe, the “Marvel” Time and Univers...</td>\n",
       "      <td>So, I noticed Picard takes place only 4 years ...</td>\n",
       "      <td>startrek</td>\n",
       "      <td>1577416233</td>\n",
       "      <td>b-zod</td>\n",
       "      <td>17</td>\n",
       "      <td>1</td>\n",
       "      <td>True</td>\n",
       "      <td>2019-12-26</td>\n",
       "    </tr>\n",
       "  </tbody>\n",
       "</table>\n",
       "</div>"
      ],
      "text/plain": [
       "                                               title  \\\n",
       "0  One thing I would change in the Star Trek univ...   \n",
       "1  [ENT] What, IRL, was the idea with \"Chef\" neve...   \n",
       "2                                  I enjoyed Nemesis   \n",
       "3                                         Data’s day   \n",
       "4  Picard Universe, the “Marvel” Time and Univers...   \n",
       "\n",
       "                                            selftext subreddit  created_utc  \\\n",
       "0  Transporter and Replicator technology.  \\n\\nIt...  startrek   1577410001   \n",
       "1  surely the writers couldn't have had that unfo...  startrek   1577410949   \n",
       "2  I finally watched it. I know it gets a lot of ...  startrek   1577411556   \n",
       "3  I am a first time viewer of any version of Sta...  startrek   1577412676   \n",
       "4  So, I noticed Picard takes place only 4 years ...  startrek   1577416233   \n",
       "\n",
       "           author  num_comments  score  is_self   timestamp  \n",
       "0     aaraujo1973            35      1     True  2019-12-26  \n",
       "1  strangemotives            43      1     True  2019-12-26  \n",
       "2  GreatScott0389             9      1     True  2019-12-26  \n",
       "3    shadowdra126             5      1     True  2019-12-26  \n",
       "4           b-zod            17      1     True  2019-12-26  "
      ]
     },
     "execution_count": 6,
     "metadata": {},
     "output_type": "execute_result"
    }
   ],
   "source": [
    "# Check the head of the dataframe\n",
    "df_star_trek.head()"
   ]
  },
  {
   "cell_type": "code",
   "execution_count": 7,
   "metadata": {},
   "outputs": [],
   "source": [
    "# Only keep 5000 rows for the sake of a balanced class\n",
    "df_star_trek.drop(df_star_trek.index[range(5000, df_star_trek.shape[0])], inplace=True)"
   ]
  },
  {
   "cell_type": "code",
   "execution_count": 8,
   "metadata": {},
   "outputs": [
    {
     "data": {
      "text/plain": [
       "(5000, 9)"
      ]
     },
     "execution_count": 8,
     "metadata": {},
     "output_type": "execute_result"
    }
   ],
   "source": [
    "df_star_trek.shape"
   ]
  },
  {
   "cell_type": "code",
   "execution_count": 9,
   "metadata": {},
   "outputs": [],
   "source": [
    "# Export dataframe to csv\n",
    "# Query Completion Time and Date: 2020-01-25 20:15:13\n",
    "df_star_trek.to_csv('../data/star_trek.csv')"
   ]
  },
  {
   "cell_type": "markdown",
   "metadata": {},
   "source": [
    "## Collect posts from subreddit: Star Wars"
   ]
  },
  {
   "cell_type": "code",
   "execution_count": 10,
   "metadata": {
    "scrolled": false
   },
   "outputs": [
    {
     "name": "stdout",
     "output_type": "stream",
     "text": [
      "queried from https://api.pushshift.io/reddit/search/submission?subreddit=StarWars&size=500&after=30d\n",
      "queried from https://api.pushshift.io/reddit/search/submission?subreddit=StarWars&size=500&after=60d\n",
      "queried from https://api.pushshift.io/reddit/search/submission?subreddit=StarWars&size=500&after=90d\n",
      "queried from https://api.pushshift.io/reddit/search/submission?subreddit=StarWars&size=500&after=120d\n",
      "queried from https://api.pushshift.io/reddit/search/submission?subreddit=StarWars&size=500&after=150d\n",
      "queried from https://api.pushshift.io/reddit/search/submission?subreddit=StarWars&size=500&after=180d\n",
      "queried from https://api.pushshift.io/reddit/search/submission?subreddit=StarWars&size=500&after=210d\n",
      "queried from https://api.pushshift.io/reddit/search/submission?subreddit=StarWars&size=500&after=240d\n",
      "queried from https://api.pushshift.io/reddit/search/submission?subreddit=StarWars&size=500&after=270d\n",
      "queried from https://api.pushshift.io/reddit/search/submission?subreddit=StarWars&size=500&after=300d\n",
      "queried from https://api.pushshift.io/reddit/search/submission?subreddit=StarWars&size=500&after=330d\n",
      "queried from https://api.pushshift.io/reddit/search/submission?subreddit=StarWars&size=500&after=360d\n",
      "queried from https://api.pushshift.io/reddit/search/submission?subreddit=StarWars&size=500&after=390d\n",
      "queried from https://api.pushshift.io/reddit/search/submission?subreddit=StarWars&size=500&after=420d\n",
      "queried from https://api.pushshift.io/reddit/search/submission?subreddit=StarWars&size=500&after=450d\n",
      "queried from https://api.pushshift.io/reddit/search/submission?subreddit=StarWars&size=500&after=480d\n",
      "queried from https://api.pushshift.io/reddit/search/submission?subreddit=StarWars&size=500&after=510d\n",
      "queried from https://api.pushshift.io/reddit/search/submission?subreddit=StarWars&size=500&after=540d\n",
      "queried from https://api.pushshift.io/reddit/search/submission?subreddit=StarWars&size=500&after=570d\n",
      "queried from https://api.pushshift.io/reddit/search/submission?subreddit=StarWars&size=500&after=600d\n",
      "queried from https://api.pushshift.io/reddit/search/submission?subreddit=StarWars&size=500&after=630d\n",
      "queried from https://api.pushshift.io/reddit/search/submission?subreddit=StarWars&size=500&after=660d\n",
      "queried from https://api.pushshift.io/reddit/search/submission?subreddit=StarWars&size=500&after=690d\n",
      "queried from https://api.pushshift.io/reddit/search/submission?subreddit=StarWars&size=500&after=720d\n",
      "queried from https://api.pushshift.io/reddit/search/submission?subreddit=StarWars&size=500&after=750d\n",
      "queried from https://api.pushshift.io/reddit/search/submission?subreddit=StarWars&size=500&after=780d\n",
      "Query Completion Time and Date: 2020-01-25 20:16:17\n"
     ]
    }
   ],
   "source": [
    "df_star_wars = query_pushshift('StarWars', day_window=30, max_requests=30)"
   ]
  },
  {
   "cell_type": "code",
   "execution_count": 11,
   "metadata": {},
   "outputs": [
    {
     "data": {
      "text/plain": [
       "(5062, 9)"
      ]
     },
     "execution_count": 11,
     "metadata": {},
     "output_type": "execute_result"
    }
   ],
   "source": [
    "df_star_wars.shape"
   ]
  },
  {
   "cell_type": "code",
   "execution_count": 12,
   "metadata": {
    "scrolled": true
   },
   "outputs": [
    {
     "data": {
      "text/html": [
       "<div>\n",
       "<style scoped>\n",
       "    .dataframe tbody tr th:only-of-type {\n",
       "        vertical-align: middle;\n",
       "    }\n",
       "\n",
       "    .dataframe tbody tr th {\n",
       "        vertical-align: top;\n",
       "    }\n",
       "\n",
       "    .dataframe thead th {\n",
       "        text-align: right;\n",
       "    }\n",
       "</style>\n",
       "<table border=\"1\" class=\"dataframe\">\n",
       "  <thead>\n",
       "    <tr style=\"text-align: right;\">\n",
       "      <th></th>\n",
       "      <th>title</th>\n",
       "      <th>selftext</th>\n",
       "      <th>subreddit</th>\n",
       "      <th>created_utc</th>\n",
       "      <th>author</th>\n",
       "      <th>num_comments</th>\n",
       "      <th>score</th>\n",
       "      <th>is_self</th>\n",
       "      <th>timestamp</th>\n",
       "    </tr>\n",
       "  </thead>\n",
       "  <tbody>\n",
       "    <tr>\n",
       "      <th>0</th>\n",
       "      <td>Qui-Gon jinn movie please?</td>\n",
       "      <td>Hear me out, baby qui-gon jinn!!!! and seeing ...</td>\n",
       "      <td>StarWars</td>\n",
       "      <td>1577409358</td>\n",
       "      <td>devn_bokr</td>\n",
       "      <td>11</td>\n",
       "      <td>1</td>\n",
       "      <td>True</td>\n",
       "      <td>2019-12-26</td>\n",
       "    </tr>\n",
       "    <tr>\n",
       "      <th>1</th>\n",
       "      <td>October 2019 - Canon: Emperor Palpatine is an ...</td>\n",
       "      <td>[removed]</td>\n",
       "      <td>StarWars</td>\n",
       "      <td>1577409600</td>\n",
       "      <td>i-THiNK-iM-BiG-MEECH</td>\n",
       "      <td>0</td>\n",
       "      <td>1</td>\n",
       "      <td>True</td>\n",
       "      <td>2019-12-26</td>\n",
       "    </tr>\n",
       "    <tr>\n",
       "      <th>2</th>\n",
       "      <td>About Cal Kestis</td>\n",
       "      <td>For real what is his age I have searched onlin...</td>\n",
       "      <td>StarWars</td>\n",
       "      <td>1577409715</td>\n",
       "      <td>XxWhatIsLifexX</td>\n",
       "      <td>6</td>\n",
       "      <td>1</td>\n",
       "      <td>True</td>\n",
       "      <td>2019-12-26</td>\n",
       "    </tr>\n",
       "    <tr>\n",
       "      <th>3</th>\n",
       "      <td>Revan TV Show [Spoilers]</td>\n",
       "      <td>I think it the KOTOR should be a show broken i...</td>\n",
       "      <td>StarWars</td>\n",
       "      <td>1577409997</td>\n",
       "      <td>ltite</td>\n",
       "      <td>3</td>\n",
       "      <td>1</td>\n",
       "      <td>True</td>\n",
       "      <td>2019-12-26</td>\n",
       "    </tr>\n",
       "    <tr>\n",
       "      <th>4</th>\n",
       "      <td>The lack of film on Disney's cutting-room floo...</td>\n",
       "      <td>Good art is often the product of a skilled and...</td>\n",
       "      <td>StarWars</td>\n",
       "      <td>1577410354</td>\n",
       "      <td>msilcommand</td>\n",
       "      <td>7</td>\n",
       "      <td>1</td>\n",
       "      <td>True</td>\n",
       "      <td>2019-12-26</td>\n",
       "    </tr>\n",
       "  </tbody>\n",
       "</table>\n",
       "</div>"
      ],
      "text/plain": [
       "                                               title  \\\n",
       "0                         Qui-Gon jinn movie please?   \n",
       "1  October 2019 - Canon: Emperor Palpatine is an ...   \n",
       "2                                   About Cal Kestis   \n",
       "3                           Revan TV Show [Spoilers]   \n",
       "4  The lack of film on Disney's cutting-room floo...   \n",
       "\n",
       "                                            selftext subreddit  created_utc  \\\n",
       "0  Hear me out, baby qui-gon jinn!!!! and seeing ...  StarWars   1577409358   \n",
       "1                                          [removed]  StarWars   1577409600   \n",
       "2  For real what is his age I have searched onlin...  StarWars   1577409715   \n",
       "3  I think it the KOTOR should be a show broken i...  StarWars   1577409997   \n",
       "4  Good art is often the product of a skilled and...  StarWars   1577410354   \n",
       "\n",
       "                 author  num_comments  score  is_self   timestamp  \n",
       "0             devn_bokr            11      1     True  2019-12-26  \n",
       "1  i-THiNK-iM-BiG-MEECH             0      1     True  2019-12-26  \n",
       "2        XxWhatIsLifexX             6      1     True  2019-12-26  \n",
       "3                 ltite             3      1     True  2019-12-26  \n",
       "4           msilcommand             7      1     True  2019-12-26  "
      ]
     },
     "execution_count": 12,
     "metadata": {},
     "output_type": "execute_result"
    }
   ],
   "source": [
    "# Check the head of the dataframe\n",
    "df_star_wars.head()"
   ]
  },
  {
   "cell_type": "code",
   "execution_count": 13,
   "metadata": {},
   "outputs": [],
   "source": [
    "# Only keep 5000 rows for the sake of a balanced class\n",
    "df_star_wars.drop(df_star_wars.index[range(5000, df_star_wars.shape[0])], inplace=True)"
   ]
  },
  {
   "cell_type": "code",
   "execution_count": 14,
   "metadata": {},
   "outputs": [],
   "source": [
    "# Export dataframe to csv\n",
    "# Query Completion Time and Date: 2020-01-25 20:16:17\n",
    "df_star_wars.to_csv('../data/star_wars.csv')"
   ]
  },
  {
   "cell_type": "markdown",
   "metadata": {},
   "source": [
    "## Combine the two dataframes and shuffle dataframe rows"
   ]
  },
  {
   "cell_type": "code",
   "execution_count": 15,
   "metadata": {},
   "outputs": [],
   "source": [
    "# Combine the two dataframes\n",
    "df_combined = df_star_trek.append(df_star_wars, ignore_index=True)"
   ]
  },
  {
   "cell_type": "code",
   "execution_count": 16,
   "metadata": {
    "scrolled": true
   },
   "outputs": [
    {
     "data": {
      "text/plain": [
       "(10000, 9)"
      ]
     },
     "execution_count": 16,
     "metadata": {},
     "output_type": "execute_result"
    }
   ],
   "source": [
    "df_combined.shape"
   ]
  },
  {
   "cell_type": "code",
   "execution_count": 17,
   "metadata": {},
   "outputs": [
    {
     "data": {
      "text/html": [
       "<div>\n",
       "<style scoped>\n",
       "    .dataframe tbody tr th:only-of-type {\n",
       "        vertical-align: middle;\n",
       "    }\n",
       "\n",
       "    .dataframe tbody tr th {\n",
       "        vertical-align: top;\n",
       "    }\n",
       "\n",
       "    .dataframe thead th {\n",
       "        text-align: right;\n",
       "    }\n",
       "</style>\n",
       "<table border=\"1\" class=\"dataframe\">\n",
       "  <thead>\n",
       "    <tr style=\"text-align: right;\">\n",
       "      <th></th>\n",
       "      <th>title</th>\n",
       "      <th>selftext</th>\n",
       "      <th>subreddit</th>\n",
       "      <th>created_utc</th>\n",
       "      <th>author</th>\n",
       "      <th>num_comments</th>\n",
       "      <th>score</th>\n",
       "      <th>is_self</th>\n",
       "      <th>timestamp</th>\n",
       "    </tr>\n",
       "  </thead>\n",
       "  <tbody>\n",
       "    <tr>\n",
       "      <th>0</th>\n",
       "      <td>One thing I would change in the Star Trek univ...</td>\n",
       "      <td>Transporter and Replicator technology.  \\n\\nIt...</td>\n",
       "      <td>startrek</td>\n",
       "      <td>1577410001</td>\n",
       "      <td>aaraujo1973</td>\n",
       "      <td>35</td>\n",
       "      <td>1</td>\n",
       "      <td>True</td>\n",
       "      <td>2019-12-26</td>\n",
       "    </tr>\n",
       "    <tr>\n",
       "      <th>1</th>\n",
       "      <td>[ENT] What, IRL, was the idea with \"Chef\" neve...</td>\n",
       "      <td>surely the writers couldn't have had that unfo...</td>\n",
       "      <td>startrek</td>\n",
       "      <td>1577410949</td>\n",
       "      <td>strangemotives</td>\n",
       "      <td>43</td>\n",
       "      <td>1</td>\n",
       "      <td>True</td>\n",
       "      <td>2019-12-26</td>\n",
       "    </tr>\n",
       "    <tr>\n",
       "      <th>2</th>\n",
       "      <td>I enjoyed Nemesis</td>\n",
       "      <td>I finally watched it. I know it gets a lot of ...</td>\n",
       "      <td>startrek</td>\n",
       "      <td>1577411556</td>\n",
       "      <td>GreatScott0389</td>\n",
       "      <td>9</td>\n",
       "      <td>1</td>\n",
       "      <td>True</td>\n",
       "      <td>2019-12-26</td>\n",
       "    </tr>\n",
       "    <tr>\n",
       "      <th>3</th>\n",
       "      <td>Data’s day</td>\n",
       "      <td>I am a first time viewer of any version of Sta...</td>\n",
       "      <td>startrek</td>\n",
       "      <td>1577412676</td>\n",
       "      <td>shadowdra126</td>\n",
       "      <td>5</td>\n",
       "      <td>1</td>\n",
       "      <td>True</td>\n",
       "      <td>2019-12-26</td>\n",
       "    </tr>\n",
       "    <tr>\n",
       "      <th>4</th>\n",
       "      <td>Picard Universe, the “Marvel” Time and Univers...</td>\n",
       "      <td>So, I noticed Picard takes place only 4 years ...</td>\n",
       "      <td>startrek</td>\n",
       "      <td>1577416233</td>\n",
       "      <td>b-zod</td>\n",
       "      <td>17</td>\n",
       "      <td>1</td>\n",
       "      <td>True</td>\n",
       "      <td>2019-12-26</td>\n",
       "    </tr>\n",
       "  </tbody>\n",
       "</table>\n",
       "</div>"
      ],
      "text/plain": [
       "                                               title  \\\n",
       "0  One thing I would change in the Star Trek univ...   \n",
       "1  [ENT] What, IRL, was the idea with \"Chef\" neve...   \n",
       "2                                  I enjoyed Nemesis   \n",
       "3                                         Data’s day   \n",
       "4  Picard Universe, the “Marvel” Time and Univers...   \n",
       "\n",
       "                                            selftext subreddit  created_utc  \\\n",
       "0  Transporter and Replicator technology.  \\n\\nIt...  startrek   1577410001   \n",
       "1  surely the writers couldn't have had that unfo...  startrek   1577410949   \n",
       "2  I finally watched it. I know it gets a lot of ...  startrek   1577411556   \n",
       "3  I am a first time viewer of any version of Sta...  startrek   1577412676   \n",
       "4  So, I noticed Picard takes place only 4 years ...  startrek   1577416233   \n",
       "\n",
       "           author  num_comments  score  is_self   timestamp  \n",
       "0     aaraujo1973            35      1     True  2019-12-26  \n",
       "1  strangemotives            43      1     True  2019-12-26  \n",
       "2  GreatScott0389             9      1     True  2019-12-26  \n",
       "3    shadowdra126             5      1     True  2019-12-26  \n",
       "4           b-zod            17      1     True  2019-12-26  "
      ]
     },
     "execution_count": 17,
     "metadata": {},
     "output_type": "execute_result"
    }
   ],
   "source": [
    "df_combined.head()"
   ]
  },
  {
   "cell_type": "code",
   "execution_count": 18,
   "metadata": {},
   "outputs": [],
   "source": [
    "# Shuffle Dataframe Rows\n",
    "df_shuffled = df_combined.sample(frac=1).reset_index(drop=True)"
   ]
  },
  {
   "cell_type": "code",
   "execution_count": 19,
   "metadata": {
    "scrolled": true
   },
   "outputs": [
    {
     "data": {
      "text/html": [
       "<div>\n",
       "<style scoped>\n",
       "    .dataframe tbody tr th:only-of-type {\n",
       "        vertical-align: middle;\n",
       "    }\n",
       "\n",
       "    .dataframe tbody tr th {\n",
       "        vertical-align: top;\n",
       "    }\n",
       "\n",
       "    .dataframe thead th {\n",
       "        text-align: right;\n",
       "    }\n",
       "</style>\n",
       "<table border=\"1\" class=\"dataframe\">\n",
       "  <thead>\n",
       "    <tr style=\"text-align: right;\">\n",
       "      <th></th>\n",
       "      <th>title</th>\n",
       "      <th>selftext</th>\n",
       "      <th>subreddit</th>\n",
       "      <th>created_utc</th>\n",
       "      <th>author</th>\n",
       "      <th>num_comments</th>\n",
       "      <th>score</th>\n",
       "      <th>is_self</th>\n",
       "      <th>timestamp</th>\n",
       "    </tr>\n",
       "  </thead>\n",
       "  <tbody>\n",
       "    <tr>\n",
       "      <th>0</th>\n",
       "      <td>The more I think on it, Rian’s treatment of Sn...</td>\n",
       "      <td>Obviously The Last Jedi has its fans and it’s ...</td>\n",
       "      <td>StarWars</td>\n",
       "      <td>1523027283</td>\n",
       "      <td>NickMoore30</td>\n",
       "      <td>155</td>\n",
       "      <td>168</td>\n",
       "      <td>True</td>\n",
       "      <td>2018-04-06</td>\n",
       "    </tr>\n",
       "    <tr>\n",
       "      <th>1</th>\n",
       "      <td>Tea, Earl Grey, Hot.</td>\n",
       "      <td>Did anyone ever think why Captain Picard alway...</td>\n",
       "      <td>startrek</td>\n",
       "      <td>1567337333</td>\n",
       "      <td>OX_Bigly</td>\n",
       "      <td>26</td>\n",
       "      <td>1</td>\n",
       "      <td>True</td>\n",
       "      <td>2019-09-01</td>\n",
       "    </tr>\n",
       "    <tr>\n",
       "      <th>2</th>\n",
       "      <td>The most improbable thing in Star trek imo</td>\n",
       "      <td>Just watched an episode of DS9 with Rom and Le...</td>\n",
       "      <td>startrek</td>\n",
       "      <td>1575721353</td>\n",
       "      <td>castiel65</td>\n",
       "      <td>6</td>\n",
       "      <td>1</td>\n",
       "      <td>True</td>\n",
       "      <td>2019-12-07</td>\n",
       "    </tr>\n",
       "    <tr>\n",
       "      <th>3</th>\n",
       "      <td>Why did the Voyager crew ever go in space again?</td>\n",
       "      <td>Call me a gutless mah'tog if you want. But if ...</td>\n",
       "      <td>startrek</td>\n",
       "      <td>1544332908</td>\n",
       "      <td>zombiecmh</td>\n",
       "      <td>6</td>\n",
       "      <td>1</td>\n",
       "      <td>True</td>\n",
       "      <td>2018-12-09</td>\n",
       "    </tr>\n",
       "    <tr>\n",
       "      <th>4</th>\n",
       "      <td>REVOLUTION</td>\n",
       "      <td>Brother, sisters!! We have laser weapons and m...</td>\n",
       "      <td>startrek</td>\n",
       "      <td>1551593655</td>\n",
       "      <td>svetambara</td>\n",
       "      <td>5</td>\n",
       "      <td>0</td>\n",
       "      <td>True</td>\n",
       "      <td>2019-03-03</td>\n",
       "    </tr>\n",
       "  </tbody>\n",
       "</table>\n",
       "</div>"
      ],
      "text/plain": [
       "                                               title  \\\n",
       "0  The more I think on it, Rian’s treatment of Sn...   \n",
       "1                               Tea, Earl Grey, Hot.   \n",
       "2         The most improbable thing in Star trek imo   \n",
       "3   Why did the Voyager crew ever go in space again?   \n",
       "4                                         REVOLUTION   \n",
       "\n",
       "                                            selftext subreddit  created_utc  \\\n",
       "0  Obviously The Last Jedi has its fans and it’s ...  StarWars   1523027283   \n",
       "1  Did anyone ever think why Captain Picard alway...  startrek   1567337333   \n",
       "2  Just watched an episode of DS9 with Rom and Le...  startrek   1575721353   \n",
       "3  Call me a gutless mah'tog if you want. But if ...  startrek   1544332908   \n",
       "4  Brother, sisters!! We have laser weapons and m...  startrek   1551593655   \n",
       "\n",
       "        author  num_comments  score  is_self   timestamp  \n",
       "0  NickMoore30           155    168     True  2018-04-06  \n",
       "1     OX_Bigly            26      1     True  2019-09-01  \n",
       "2    castiel65             6      1     True  2019-12-07  \n",
       "3    zombiecmh             6      1     True  2018-12-09  \n",
       "4   svetambara             5      0     True  2019-03-03  "
      ]
     },
     "execution_count": 19,
     "metadata": {},
     "output_type": "execute_result"
    }
   ],
   "source": [
    "df_shuffled.head()"
   ]
  },
  {
   "cell_type": "code",
   "execution_count": 20,
   "metadata": {},
   "outputs": [
    {
     "data": {
      "text/html": [
       "<div>\n",
       "<style scoped>\n",
       "    .dataframe tbody tr th:only-of-type {\n",
       "        vertical-align: middle;\n",
       "    }\n",
       "\n",
       "    .dataframe tbody tr th {\n",
       "        vertical-align: top;\n",
       "    }\n",
       "\n",
       "    .dataframe thead th {\n",
       "        text-align: right;\n",
       "    }\n",
       "</style>\n",
       "<table border=\"1\" class=\"dataframe\">\n",
       "  <thead>\n",
       "    <tr style=\"text-align: right;\">\n",
       "      <th></th>\n",
       "      <th>title</th>\n",
       "      <th>selftext</th>\n",
       "      <th>subreddit</th>\n",
       "      <th>created_utc</th>\n",
       "      <th>author</th>\n",
       "      <th>num_comments</th>\n",
       "      <th>score</th>\n",
       "      <th>is_self</th>\n",
       "      <th>timestamp</th>\n",
       "    </tr>\n",
       "  </thead>\n",
       "  <tbody>\n",
       "    <tr>\n",
       "      <th>9995</th>\n",
       "      <td>I recently started Discovery.</td>\n",
       "      <td>And I hated the first season. I literally fast...</td>\n",
       "      <td>startrek</td>\n",
       "      <td>1556995926</td>\n",
       "      <td>MyNicknameIsDice</td>\n",
       "      <td>24</td>\n",
       "      <td>0</td>\n",
       "      <td>True</td>\n",
       "      <td>2019-05-04</td>\n",
       "    </tr>\n",
       "    <tr>\n",
       "      <th>9996</th>\n",
       "      <td>Han Solo</td>\n",
       "      <td>Does any one have or can find a 9 panel pictur...</td>\n",
       "      <td>StarWars</td>\n",
       "      <td>1569852133</td>\n",
       "      <td>Jesse-Jones</td>\n",
       "      <td>0</td>\n",
       "      <td>0</td>\n",
       "      <td>True</td>\n",
       "      <td>2019-09-30</td>\n",
       "    </tr>\n",
       "    <tr>\n",
       "      <th>9997</th>\n",
       "      <td>Triple Force Friday Australia</td>\n",
       "      <td>Does anyone know if any stores in Australia ar...</td>\n",
       "      <td>StarWars</td>\n",
       "      <td>1569732434</td>\n",
       "      <td>bdave3385</td>\n",
       "      <td>2</td>\n",
       "      <td>3</td>\n",
       "      <td>True</td>\n",
       "      <td>2019-09-29</td>\n",
       "    </tr>\n",
       "    <tr>\n",
       "      <th>9998</th>\n",
       "      <td>Anyone else had to laugh at “what the frick”</td>\n",
       "      <td>Context: https://youtu.be/2pJlpCfueV0</td>\n",
       "      <td>startrek</td>\n",
       "      <td>1551523022</td>\n",
       "      <td>tresslessone</td>\n",
       "      <td>5</td>\n",
       "      <td>0</td>\n",
       "      <td>True</td>\n",
       "      <td>2019-03-02</td>\n",
       "    </tr>\n",
       "    <tr>\n",
       "      <th>9999</th>\n",
       "      <td>Rewatching ENT, what a worthless crew!</td>\n",
       "      <td>Okay, so I'm currently rewatching ENT. The ser...</td>\n",
       "      <td>startrek</td>\n",
       "      <td>1564941087</td>\n",
       "      <td>rattlesnakejake90</td>\n",
       "      <td>15</td>\n",
       "      <td>0</td>\n",
       "      <td>True</td>\n",
       "      <td>2019-08-04</td>\n",
       "    </tr>\n",
       "  </tbody>\n",
       "</table>\n",
       "</div>"
      ],
      "text/plain": [
       "                                             title  \\\n",
       "9995                 I recently started Discovery.   \n",
       "9996                                      Han Solo   \n",
       "9997                 Triple Force Friday Australia   \n",
       "9998  Anyone else had to laugh at “what the frick”   \n",
       "9999        Rewatching ENT, what a worthless crew!   \n",
       "\n",
       "                                               selftext subreddit  \\\n",
       "9995  And I hated the first season. I literally fast...  startrek   \n",
       "9996  Does any one have or can find a 9 panel pictur...  StarWars   \n",
       "9997  Does anyone know if any stores in Australia ar...  StarWars   \n",
       "9998              Context: https://youtu.be/2pJlpCfueV0  startrek   \n",
       "9999  Okay, so I'm currently rewatching ENT. The ser...  startrek   \n",
       "\n",
       "      created_utc             author  num_comments  score  is_self   timestamp  \n",
       "9995   1556995926   MyNicknameIsDice            24      0     True  2019-05-04  \n",
       "9996   1569852133        Jesse-Jones             0      0     True  2019-09-30  \n",
       "9997   1569732434          bdave3385             2      3     True  2019-09-29  \n",
       "9998   1551523022       tresslessone             5      0     True  2019-03-02  \n",
       "9999   1564941087  rattlesnakejake90            15      0     True  2019-08-04  "
      ]
     },
     "execution_count": 20,
     "metadata": {},
     "output_type": "execute_result"
    }
   ],
   "source": [
    "df_shuffled.tail()"
   ]
  },
  {
   "cell_type": "code",
   "execution_count": 21,
   "metadata": {},
   "outputs": [],
   "source": [
    "# Export the final dataframe\n",
    "df_shuffled.to_csv('../data/final.csv')"
   ]
  }
 ],
 "metadata": {
  "kernelspec": {
   "display_name": "Python 3",
   "language": "python",
   "name": "python3"
  },
  "language_info": {
   "codemirror_mode": {
    "name": "ipython",
    "version": 3
   },
   "file_extension": ".py",
   "mimetype": "text/x-python",
   "name": "python",
   "nbconvert_exporter": "python",
   "pygments_lexer": "ipython3",
   "version": "3.7.4"
  },
  "toc": {
   "base_numbering": 1,
   "nav_menu": {},
   "number_sections": true,
   "sideBar": true,
   "skip_h1_title": false,
   "title_cell": "Table of Contents",
   "title_sidebar": "Contents",
   "toc_cell": true,
   "toc_position": {},
   "toc_section_display": true,
   "toc_window_display": true
  }
 },
 "nbformat": 4,
 "nbformat_minor": 2
}
